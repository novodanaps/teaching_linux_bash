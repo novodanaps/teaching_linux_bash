{
 "cells": [
  {
   "cell_type": "markdown",
   "metadata": {},
   "source": [
    "# Learn GAWK programming language hands-on\n",
    "\n",
    "## Introduction\n",
    "\n",
    "GAWK is a programming language designed for text processing and typically used as a data extraction and reporting tool. It is a standard feature of most Unix-like operating systems.\n",
    "\n",
    "GAWK is one of the most popular and powerful scripting languages. It is a standard feature of most Unix-like operating systems. It is also available for Microsoft Windows and other operating systems. It was created in the 1970s at Bell Labs.\n",
    "\n",
    "GAWK is a complete programming language. It has variables, control structures, user-defined functions, and so on. It also has built-in functions and operators for doing regular expression matching, string concatenation, file input/output, and so on. It is interpreted and dynamically typed.\n",
    "\n",
    "## GAWK vs AWK\n",
    "\n",
    "GAWK has many extensions over the original version of awk. It is upwardly compatible with the System V Release 4 version of awk. It also has many additional features. It is also backwardly compatible with the original version of awk. It is a superset of the original version of awk.\n",
    "\n",
    "These are some of the extensions of GAWK over the original version of awk:\n",
    "\n",
    "* Additional data types: arrays, associative arrays, multidimensional arrays, and objects.\n",
    "* Additional control structures: do-while, for, switch, break, continue, and the three-argument form of the if statement.\n",
    "* Additional operators: **, ++, --, +=, -=, *=, /=, %=, ^=, and the ternary conditional operator.\n",
    "* Additional built-in functions: and(), asort(), asorti(), atan2(), close(), cos(), exp(), fflush(), gensub(), getline(), index(), int(), log(), match(), mktime(), rand(), sin(), split(), sprintf(), srand(), strftime(), substr(), systime(), tolower(), toupper(), and close().\n",
    "* Additional special patterns: BEGINFILE, ENDFILE, and the three-argument form of the if statement.\n",
    "* Additional command-line options: -f, -F, -M, -W, and -v.\n",
    "* Additional built-in variables: ARGC, ARGIND, ARGV, BINMODE, CONVFMT, ENVIRON, ERRNO, FIELDWIDTHS, FPAT, IGNORECASE, LINT, NF, NR, OFMT, OFS, ORS, RLENGTH, RS, RSTART, RT, SUBSEP, TEXTDOMAIN, and TEXTDOMAINDIR.\n",
    "* Additional features: \n",
    "    1. the ability to include source files with the include statement\n",
    "    1. the ability to load shared libraries with the load statement\n",
    "    1. the ability to use arbitrary-precision\n",
    "\n",
    "*In mordern Linux distributions, the awk command is a symbolic link to the gawk command. So, when you run the awk command, you are actually running the gawk command. The awk command is a symbolic link to the gawk command for backward compatibility.*\n",
    "\n",
    "\n",
    "## General syntax\n",
    "\n",
    "GAWK programs are made up of rules and actions. A rule is made up of a pattern and an action. Please read on. these concept will be explained below. \n",
    "\n",
    "This is the general syntax of a GAWK program:\n",
    "\n",
    "```awk\n",
    "pattern { action }\n",
    "pattern { action }\n",
    "...\n",
    "```\n",
    "\n",
    "This is an example of pattern and action:\n",
    "\n",
    "```awk\n",
    "BEGIN { print \"Hello, world!\" }\n",
    "```\n",
    "where `BEGIN` is a pattern which means that the action will be executed before the first input record is read.\n",
    "`{ print \"Hello, world!\"}` is an action which can be a single or multiple statements. In this case, action is a single statement which is to print the string \"Hello, world!\". An action is executed when a pattern matches the current input record.  The curly braces are required to designate an action.\n",
    "\n",
    "\n",
    "When a rule matches the current input record, the action is executed. A pattern is made up of one or more patterns separated by newlines or semicolons. An action is made up of one or more statements separated by newlines or semicolons.\n",
    "\n"
   ]
  },
  {
   "cell_type": "code",
   "execution_count": 16,
   "metadata": {
    "vscode": {
     "languageId": "shellscript"
    }
   },
   "outputs": [
    {
     "name": "stdout",
     "output_type": "stream",
     "text": [
      "Hello, world!\n"
     ]
    }
   ],
   "source": [
    "awk 'BEGIN { print \"Hello, world!\" }'"
   ]
  },
  {
   "cell_type": "code",
   "execution_count": null,
   "metadata": {
    "vscode": {
     "languageId": "shellscript"
    }
   },
   "outputs": [],
   "source": [
    "# Overall structure of a gawk program including BEGIN, main, and END blocks\n",
    "\n",
    "awk 'BEGIN { print \"Hello, world!\" }\n",
    "    (NR == 1) { print \"This is the first line.\" })\n",
    "    END { print \"Goodbye, world!\" }' file1 file2\n",
    "\n",
    "\n"
   ]
  },
  {
   "cell_type": "markdown",
   "metadata": {},
   "source": [
    "## GAWK's special variables\n",
    "\n",
    "GAWK has many built-in variables. These are some of the built-in variables:\n",
    "\n",
    "* `ARGC`: The number of command-line arguments.\n",
    "* `ARGV`: An array of command-line arguments.\n",
    "* `BEGINFILE`: The BEGINFILE pattern.\n",
    "* `ENDFILE`: The ENDFILE pattern.\n",
    "* `BINMODE`: The binary mode flag.\n",
    "* `CONVFMT`: The conversion format for numbers.\n",
    "* `ENVIRON`: An array of environment variables.\n",
    "* `ERRNO`: The system error message corresponding to the value of the system variable `ERRNO`.\n",
    "* `FIELDWIDTHS`: The field widths for fixed-width data.\n",
    "* `FILENAME`: The name of the current input file.\n",
    "* `FNR`: The current record number in the current input file.\n",
    "* `FPAT`: The regular expression describing the contents of the fields in a record.\n",
    "* `FS`: The input field separator.\n",
    "* `IGNORECASE`: The case-insensitive matching flag.\n",
    "* `LINT`: The lint flag.\n",
    "* `NF`: The number of fields in the current record.\n",
    "* `NR`: The current record number in the current input file.\n",
    "* `OFMT`: The output format for numbers.\n",
    "* `OFS`: The output field separator.\n",
    "* `ORS`: The output record separator.\n",
    "* `RLENGTH`: The length of the string matched by the `match()` function.\n",
    "* `RS`: The input record separator.\n",
    "* `RSTART`: The index of the first character matched by the `match()` function.\n",
    "* `RT`: The record terminator.\n",
    "* `SUBSEP`: The subscript separator.\n",
    "* `TEXTDOMAIN`: The text domain.\n",
    "* `TEXTDOMAINDIR`: The directory for the text domain.\n",
    "\n",
    "These are some of the special variables usually used to control the execution of a GAWK program:\n",
    "\n",
    "* `BEGIN`: The BEGIN pattern.\n",
    "* `END`: The END pattern.\n",
    "* `FILENAME`: The name of the current input file.\n",
    "* `FNR`: The current record number in the current input file.\n",
    "* `NF`: The number of fields in the current record.\n",
    "* `NR`: The current record number in the current input file."
   ]
  },
  {
   "cell_type": "code",
   "execution_count": 2,
   "metadata": {
    "vscode": {
     "languageId": "shellscript"
    }
   },
   "outputs": [
    {
     "name": "stdout",
     "output_type": "stream",
     "text": [
      "93\n",
      "59\n",
      "30\n",
      "58\n",
      "74\n",
      "79\n",
      "44\n",
      "33\n",
      "78\n",
      "10\n"
     ]
    }
   ],
   "source": [
    "# Create some randomly generated data to work with GAWK\n",
    "\n",
    "awk 'BEGIN {\n",
    "    for (i = 0; i < 10; i++)\n",
    "        print int(101 * rand())\n",
    "}'\n"
   ]
  },
  {
   "cell_type": "code",
   "execution_count": null,
   "metadata": {
    "vscode": {
     "languageId": "shellscript"
    }
   },
   "outputs": [
    {
     "name": "stdout",
     "output_type": "stream",
     "text": [
      "\n",
      "NZ_JAGWDO010000079.1 Escherichia coli strain INF32/16/A Scaffold_79, whole genome shotgun sequence\n",
      "NZ_JAGWDO010000078.1 Escherichia coli strain INF32/16/A Scaffold_78, whole genome shotgun sequence\n"
     ]
    }
   ],
   "source": [
    "# One-liner to list out the commmon fasta between two files, print out only the fasta ID\n",
    "awk 'BEGIN {RS = \">\" ; FS = \"\\n\" ; OFS = \"\\t\"} NR == FNR {a[$1] = $0 ; next} $1 in a {print $1}' data/ecoli.fasta data/ecoli2.fasta"
   ]
  },
  {
   "cell_type": "code",
   "execution_count": null,
   "metadata": {
    "vscode": {
     "languageId": "shellscript"
    }
   },
   "outputs": [
    {
     "name": "stdout",
     "output_type": "stream",
     "text": [
      "\n",
      "NZ_JAGWDO010000079.1 Escherichia coli strain INF32/16/A Scaffold_79, whole genome shotgun sequence\n",
      "CCTTCGAACCACAACTGGTGAAGAAAAATCAGACCCGCATTACCGGCATGGACAACCAGATCCTGGCGCT\n",
      "GTATGCCAGAGGGATGACTACCCGCGAAATTACCTCAGCCTTCAAAGAAATGTACGACGCCGATGTCTCG\n",
      "CCCACGCTGATATCCAAAGTGACCGATGCGGTTAAAGAACAGGTCTCTGAATGGCAAAACCGACCGTTGG\n",
      "ATGCACTGTATCCCATTGTTTATCTTGACTGTATTGTGGTTAAGGTTCGTCACAGCGGGAGTGTCATTAA\n",
      "CAAAGCGGTGTTCCTCGCGCTGGGCATCAATACCGACGGTCAGAAAGAGCTGCTGGATATGTGGCTGGCC\n",
      "GAAAATGAAGGTGCAAAGTTCTGGCTGAATGTACTGACGGAACTGAAAAATCGCGGCCTGAACGATATCC\n",
      "TTATCGCCTTCGTGGACGGCCTGAAAGGCTTCCCGGAAGCGAT\n",
      "\n",
      "\n",
      "NZ_JAGWDO010000078.1 Escherichia coli strain INF32/16/A Scaffold_78, whole genome shotgun sequence\n",
      "TTTTTACTAAGCATTTCAGTAAGTGTTATACACGTATTTTCTACTAAGTGTTTTACCAGACATACACATG\n",
      "TTTTCATAAACAATTCTACAAGTGTTTTCATTAAGTATTGTTATACACATTGCTTTGTCTGATACACATC\n",
      "CAGTTTAGTAAACCTGTCAGTCCTGTTTTTACGTTAACTAAAATCAGCTTAATGCTACTACAAAACAATC\n",
      "TTTCCTGTTTAAGCAATCAATATGATATTCTATTTTTCTGATGTTACATTTAACCTTTTATGAGTTTTCG\n",
      "TGTTTTTAGTCGTTAACCTGAGACAAGTGTTTTTATGTAAAACGCAAATCCGGCTGAGATAACCTGGCGT\n",
      "GATTTACTGTGTGCTTACGATGATTTTGTTAAATGGTTTTATGGATGATTTTGTAGCGATAAGATTGATG\n",
      "AGATGATTAACTGGCCCTGGTGTTTTTTCTCAGTGCAAGGTGATTATCTTCATCATAA\n",
      "\n",
      "\n"
     ]
    }
   ],
   "source": [
    "# One-liner to list out the commmon fasta between two files\n",
    "awk 'BEGIN {RS = \">\" ; FS = \"\\n\" ; OFS = \"\\t\"} NR == FNR {a[$1] = $0 ; next} $1 in a {print a[$1]}' data/ecoli.fasta data/ecoli2.fasta"
   ]
  },
  {
   "cell_type": "code",
   "execution_count": null,
   "metadata": {
    "vscode": {
     "languageId": "shellscript"
    }
   },
   "outputs": [
    {
     "name": "stdout",
     "output_type": "stream",
     "text": [
      "\t0\n",
      "NZ_JAGWDO010000079.1 Escherichia coli strain INF32/16/A Scaffold_79, whole genome shotgun sequence\t70\n",
      "NZ_JAGWDO010000078.1 Escherichia coli strain INF32/16/A Scaffold_78, whole genome shotgun sequence\t70\n"
     ]
    }
   ],
   "source": [
    "# Excersise: Print out the fasta ID and sequence length for the common fasta between two files\n",
    "awk 'BEGIN {RS = \">\" ; FS = \"\\n\" ; OFS = \"\\t\"} NR == FNR {a[$1] = $0 ; next} $1 in a {print $1, length($2)}' data/ecoli.fasta data/ecoli2.fasta"
   ]
  },
  {
   "cell_type": "code",
   "execution_count": null,
   "metadata": {
    "vscode": {
     "languageId": "shellscript"
    }
   },
   "outputs": [],
   "source": [
    "# Tabulate statistics for multi-fasta file with gawk.\n",
    "# This has a bug. Can you find it?\n",
    "\n",
    "gawk 'BEGIN {\n",
    "    RS = \">\" # Record separator\n",
    "    FS = \"\\n\" # Field separator\n",
    "    OFS = \"\\t\" # Output field separator\n",
    "    print \"Name\", \"Length\", \"GC\", \"AT\", \"N\", \"GC%\", \"AT%\", \"N%\"\n",
    "} {\n",
    "    if (NR > 1) {\n",
    "        name = $1\n",
    "        # Keep only fasta ID\n",
    "        sub(/ .*/, \"\", name)\n",
    "        seq = $2\n",
    "        gsub(\"\\n\", \"\", seq)\n",
    "        gsub(\"\\r\", \"\", seq)\n",
    "        len = length(seq)\n",
    "        gc = gsub(/[GC]/, \"\", seq)\n",
    "        at = gsub(/[AT]/, \"\", seq)\n",
    "        n = gsub(/[Nn]/, \"\", seq)\n",
    "        # Round to 2 decimal places\n",
    "        gc = sprintf(\"%.2f\", gc / len)\n",
    "        at = sprintf(\"%.2f\", at / len)\n",
    "        n = sprintf(\"%.2f\", n / len)\n",
    "        print name, len, gc, at, n, gc * 100, at * 100, n * 100\n",
    "    }\n",
    "}' data/ecoli.fasta\n"
   ]
  },
  {
   "cell_type": "code",
   "execution_count": 15,
   "metadata": {
    "vscode": {
     "languageId": "shellscript"
    }
   },
   "outputs": [
    {
     "name": "stdout",
     "output_type": "stream",
     "text": [
      "Name\tLength\tGC\tAT\tN\tGC%\tAT%\tN%\n",
      "NZ_JAGWDO010000097.1 Escherichia coli strain INF32/16/A Scaffold_97, whole genome shotgun sequence\t220\t0.28\t0.40\t0.32\t28\t40\t32\n",
      "NZ_JAGWDO010000096.1 Escherichia coli strain INF32/16/A Scaffold_96, whole genome shotgun sequence\t243\t0.60\t0.40\t0.00\t60\t40\t0\n",
      "NZ_JAGWDO010000095.1 Escherichia coli strain INF32/16/A Scaffold_95, whole genome shotgun sequence\t272\t0.51\t0.49\t0.00\t51\t49\t0\n",
      "NZ_JAGWDO010000094.1 Escherichia coli strain INF32/16/A Scaffold_94, whole genome shotgun sequence\t273\t0.48\t0.52\t0.00\t48\t52\t0\n",
      "NZ_JAGWDO010000093.1 Escherichia coli strain INF32/16/A Scaffold_93, whole genome shotgun sequence\t300\t0.52\t0.48\t0.00\t52\t48\t0\n",
      "NZ_JAGWDO010000092.1 Escherichia coli strain INF32/16/A Scaffold_92, whole genome shotgun sequence\t300\t0.52\t0.48\t0.00\t52\t48\t0\n",
      "NZ_JAGWDO010000091.1 Escherichia coli strain INF32/16/A Scaffold_91, whole genome shotgun sequence\t301\t0.37\t0.63\t0.00\t37\t63\t0\n",
      "NZ_JAGWDO010000090.1 Escherichia coli strain INF32/16/A Scaffold_90, whole genome shotgun sequence\t319\t0.57\t0.43\t0.00\t57\t43\t0\n",
      "NZ_JAGWDO010000089.1 Escherichia coli strain INF32/16/A Scaffold_89, whole genome shotgun sequence\t328\t0.50\t0.50\t0.00\t50\t50\t0\n",
      "NZ_JAGWDO010000088.1 Escherichia coli strain INF32/16/A Scaffold_88, whole genome shotgun sequence\t353\t0.42\t0.58\t0.00\t42\t58\t0\n",
      "NZ_JAGWDO010000087.1 Escherichia coli strain INF32/16/A Scaffold_87, whole genome shotgun sequence\t368\t0.48\t0.52\t0.00\t48\t52\t0\n",
      "NZ_JAGWDO010000086.1 Escherichia coli strain INF32/16/A Scaffold_86, whole genome shotgun sequence\t372\t0.30\t0.70\t0.00\t30\t70\t0\n",
      "NZ_JAGWDO010000085.1 Escherichia coli strain INF32/16/A Scaffold_85, whole genome shotgun sequence\t378\t0.35\t0.65\t0.00\t35\t65\t0\n",
      "NZ_JAGWDO010000084.1 Escherichia coli strain INF32/16/A Scaffold_84, whole genome shotgun sequence\t387\t0.51\t0.49\t0.00\t51\t49\t0\n",
      "NZ_JAGWDO010000083.1 Escherichia coli strain INF32/16/A Scaffold_83, whole genome shotgun sequence\t387\t0.51\t0.49\t0.00\t51\t49\t0\n",
      "NZ_JAGWDO010000082.1 Escherichia coli strain INF32/16/A Scaffold_82, whole genome shotgun sequence\t392\t0.40\t0.60\t0.00\t40\t60\t0\n",
      "NZ_JAGWDO010000081.1 Escherichia coli strain INF32/16/A Scaffold_81, whole genome shotgun sequence\t395\t0.47\t0.53\t0.00\t47\t53\t0\n",
      "NZ_JAGWDO010000080.1 Escherichia coli strain INF32/16/A Scaffold_80, whole genome shotgun sequence\t425\t0.49\t0.51\t0.00\t49\t51\t0\n",
      "NZ_JAGWDO010000079.1 Escherichia coli strain INF32/16/A Scaffold_79, whole genome shotgun sequence\t463\t0.51\t0.49\t0.00\t51\t49\t0\n",
      "NZ_JAGWDO010000078.1 Escherichia coli strain INF32/16/A Scaffold_78, whole genome shotgun sequence\t478\t0.32\t0.68\t0.00\t32\t68\t0\n"
     ]
    }
   ],
   "source": [
    "# Tabulate statistics for multi-fasta file with gawk.\n",
    "# Fasta sequence of each record is on multiple lines.\n",
    "# Need to read in entire record before processing.\n",
    "# Output is tab-delimited.\n",
    "\n",
    "gawk 'BEGIN {\n",
    "    RS = \">\" # Record separator\n",
    "    FS = \"\\n\" # Field separator\n",
    "    OFS = \"\\t\" # Output field separator\n",
    "    print \"Name\", \"Length\", \"GC\", \"AT\", \"N\", \"GC%\", \"AT%\", \"N%\"\n",
    "} (NR > 1){\n",
    "   # Read multi-line fasta sequence into single variable\n",
    "    seq = \"\"\n",
    "    for (i = 2; i <= NF; i++) {\n",
    "        seq = seq $i\n",
    "    }\n",
    "    len = length(seq)\n",
    "    gc = gsub(/[GC]/, \"\", seq)\n",
    "    at = gsub(/[AT]/, \"\", seq)\n",
    "    n = gsub(/[Nn]/, \"\", seq)\n",
    "    # Round to 2 decimal places\n",
    "    gc = sprintf(\"%.2f\", gc / len)\n",
    "    at = sprintf(\"%.2f\", at / len)\n",
    "    n = sprintf(\"%.2f\", n / len)\n",
    "    print $1, len, gc, at, n, gc * 100, at * 100, n * 100\n",
    "}' data/ecoli.fasta"
   ]
  },
  {
   "cell_type": "code",
   "execution_count": null,
   "metadata": {
    "vscode": {
     "languageId": "shellscript"
    }
   },
   "outputs": [],
   "source": []
  },
  {
   "cell_type": "code",
   "execution_count": null,
   "metadata": {
    "vscode": {
     "languageId": "shellscript"
    }
   },
   "outputs": [],
   "source": []
  }
 ],
 "metadata": {
  "kernelspec": {
   "display_name": "Bash",
   "language": "bash",
   "name": "bash"
  },
  "language_info": {
   "codemirror_mode": "shell",
   "file_extension": ".sh",
   "mimetype": "text/x-sh",
   "name": "bash"
  }
 },
 "nbformat": 4,
 "nbformat_minor": 2
}
