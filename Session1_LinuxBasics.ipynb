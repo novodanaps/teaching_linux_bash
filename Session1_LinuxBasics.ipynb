{
 "cells": [
  {
   "cell_type": "markdown",
   "metadata": {},
   "source": [
    "\n",
    "# Introduction to Linux and Basic Commands\n",
    "*Objective: Familiarize students with the Linux OS and basic command-line interface.*\n",
    "\n",
    "\n",
    "## Introduction to Linux OS (45 minutes)\n",
    "\n",
    "### Why should you use Linux?\n",
    "\n",
    "1. Open Source and Free\n",
    "    - Your learning and working without software and tools written in R, Python, C, C++, Julia, Java?\n",
    "2. Stability and Reliability\n",
    "3. Powerful Command-Line Interface\n",
    "4. Widespread Use in Scientific Computing\n",
    "5. Community and Support\n",
    "    - free and knowledgeable\n",
    "6. Customizability and Control\n",
    "    - Customizable and programmable. \n",
    "7. Security and Privacy\n",
    "8. Large Software Repository\n",
    "9. Compatibility with Cloud and Server Environments\n",
    "10. Skill Development for Professional Growth\n"
   ]
  },
  {
   "cell_type": "markdown",
   "metadata": {},
   "source": [
    "### Overview of Linux in statistical and bioinformatics computing\n",
    "\n",
    "Why do we use Linux in statistical and bioinformatics computing?\n",
    "\n",
    "1. **High-Performance Computing Dominance:**\n",
    "   - Majority of world's supercomputers run on Linux.\n",
    "   - Critical for handling large datasets in bioinformatics.\n",
    "\n",
    "2. **Bioinformatics Tools Development:**\n",
    "   - Significant bioinformatics software developed for Linux.\n",
    "   - Essential for using and developing bioinformatics tools.\n",
    "\n",
    "3. **Scripting and Automation:**\n",
    "   - Powerful command-line interface and scripting capabilities.\n",
    "   - Enhances productivity in data analysis.\n",
    "\n",
    "4. **Open Source Community:**\n",
    "   - Vast developer and user community.\n",
    "   - Invaluable for learning and problem-solving.\n",
    "\n",
    "5. **Scientific Workflow Compatibility:**\n",
    "   - Integrates various tools and software.\n",
    "   - Ideal for complex scientific workflows.\n",
    "\n",
    "6. **Cloud and Server Preference:**\n",
    "   - Preferred OS for cloud computing and servers.\n",
    "   - Indispensable for modern computational environments.\n",
    "\n",
    "7. **Data Security:**\n",
    "   - Known for robust security features.\n",
    "   - Crucial for handling sensitive research data.\n"
   ]
  },
  {
   "cell_type": "markdown",
   "metadata": {},
   "source": [
    "# Conceptual structure of a Linux system\n",
    "\n",
    "![Linux architecture](images/linuxarch.jpg)\n",
    "\n",
    "(image source: https://madhuakula.com/content/linux-security-internals/linuxarch/)\n",
    "\n",
    "More readings about Linux architecture https://www.javatpoint.com/architecture-of-linux\n",
    "\n",
    "\n"
   ]
  },
  {
   "cell_type": "markdown",
   "metadata": {},
   "source": [
    "### Main direcotry and theire functions"
   ]
  },
  {
   "cell_type": "markdown",
   "metadata": {},
   "source": [
    "Linux file system hierarchy\n",
    "https://en.wikipedia.org/wiki/Filesystem_Hierarchy_Standard\n",
    "\n",
    "Roles of each typical directory in Linux file system. You would not create any of these directories yourself. They are created automatically when you install the operating system or add packages later on.\n",
    "Folder are sorted by rough frequency of use. The most frequently used folders are at the top.\n",
    "\n",
    "| Directory | Description |\n",
    "| --- | --- |\n",
    "|**/**| Root directory. All other directories are subdirectories of root.|\n",
    "|**/home**| Home directories for all users on the system. It is also possible to setup home directories to a custom location.|\n",
    "|**/usr**| User programs. This is the largest directory in a typical Linux system. It contains all the user binaries, their documentation, libraries, header files, etc.|\n",
    "|**/etc**| System-wide configuration files.|\n",
    "|**/bin**| Keep binary or scripts that are executable/runnable system-wide |\n",
    "|**/tmp**| Temporary files. These files are generally deleted upon reboot.|\n",
    "|**/boot**| Boot directory contains files for booting the system |\n",
    "|**/var**| Variable data. This directory contains files that change often, such as logs, spool files, and temporary e-mail files.|\n",
    "|**/cdrom**| Mount point for CD-ROMs|\n",
    "|**/dev**| Device files for all hardware devices on the machine. For example, /dev/sda is the first hard drive, /dev/sda1 is the first partition on the first hard drive, and so on. |\n",
    "|**/lib**| Libraries for the binaries in /bin and /sbin.|\n",
    "|**/lib32**| Libraries for the binaries in /bin and /sbin for 32-bit systems.|\n",
    "|**/lib64**| Libraries for the binaries in /bin and /sbin for 64-bit systems.|\n",
    "|**/libx32**| Same functionality as /lib32 |\n",
    "|**/lost+found**| Files that were recovered after a system crash.|\n",
    "|**/media**| Mount point for removable media such as USB sticks or DVDs.|\n",
    "|**/mnt**| Mount point for temporarily mounted filesystems.|\n",
    "|**/opt**| Optional software packages.|\n",
    "|**/proc**| Virtual filesystem that contains information about processes and the system.|\n",
    "|**/root**| Home directory for the root user.|\n",
    "|**/run**| Runtime data for processes started since the last boot.|\n",
    "|**/sbin**| System binaries. These are executables that are generally reserved for the root user for system administration.|\n",
    "|**/snap**| Snap packages. Software delivered via snap are self-contained and can be installed without affecting the rest of the system. They are usually ported from other Linux distributions, or Windows and Mac.|\n",
    "|**/srv**| Data for services provided by the system.|\n",
    "|**/sys**| Virtual filesystem that contains information about hardware devices and drivers.|"
   ]
  },
  {
   "cell_type": "markdown",
   "metadata": {},
   "source": [
    "\n",
    "# Linux file system commands"
   ]
  },
  {
   "cell_type": "code",
   "execution_count": 1,
   "metadata": {
    "vscode": {
     "languageId": "shellscript"
    }
   },
   "outputs": [
    {
     "name": "stdout",
     "output_type": "stream",
     "text": [
      "Hello World\n"
     ]
    }
   ],
   "source": [
    "# This is a comment, that is ignored by the computer.\n",
    "# But comments are useful for humans to understand what is going on.\n",
    "\n",
    "# Let's print a message to the screen.\n",
    "echo Hello World"
   ]
  },
  {
   "cell_type": "code",
   "execution_count": null,
   "metadata": {
    "vscode": {
     "languageId": "shellscript"
    }
   },
   "outputs": [],
   "source": [
    "# view root file system\n",
    "ls -1 /"
   ]
  },
  {
   "cell_type": "markdown",
   "metadata": {},
   "source": [
    "# Common usage patterns for Linux Users\n",
    "\n",
    "1. Navigating the file system\n",
    "2. Creating, copying, moving, and deleting files and directories\n",
    "3. Viewing and editing files\n",
    "4. Searching for files\n",
    "5. Getting help\n",
    "6. Managing processes\n",
    "7. Managing users and groups\n",
    "8. Managing permissions\n",
    "9. Managing software packages\n",
    "10. Managing services\n",
    "11. Managing storage\n",
    "12. Managing system logs\n",
    "13. Managing the network\n",
    "14. Managing the firewall\n",
    "15. Managing the kernel\n",
    "16. Managing the boot process\n",
    "17. Managing the system clock\n",
    "18. Managing the system\n",
    "19. Managing the hardware\n",
    "20. Managing the system"
   ]
  },
  {
   "cell_type": "markdown",
   "metadata": {},
   "source": [
    " ## 1. Navigating the file system\n",
    "\n",
    " 0. `man` - read manual pages of commands installed on the system\n",
    " 1. `pwd` - print working directory\n",
    " 2. `cd` - change directory\n",
    " 3. `ls` - list directory contents\n",
    " 4. `tree` - list contents of directories in a tree-like format\n",
    " 5. `mkdir` - make directories\n",
    " 6. `rmdir` - remove empty directories\n",
    " 7. `rm` - remove files and directories\n",
    " 8. `cp` - copy files and directories\n",
    " 9. `mv` - move/rename files and directories\n",
    " 10. `touch` - create empty files\n",
    " 11. `cat` - concatenate files and print on the standard output\n",
    " 12. `less` - read file with pagination\n",
    " 13. `more` - read text files with pagination, keeps the text in the terminal after exiting. \n",
    " 14. `head` - output the first part of files\n",
    " 15. `tail` - output the last part of files\n",
    " 16. `grep` - print lines matching a pattern. More advanced alternatives which are faster and more user friendly output: `ack` (belonging to \"ack\" package), `rg` (belonging to \"ripgrep\" package)\n",
    " 17. `find` - search for files in a directory hierarchy\n",
    " 18. `locate` - find files by name\n",
    " 19. `which` - locate a command\n",
    " 20. `whereis` - locate the binary, source, and manual page files for a command\n"
   ]
  },
  {
   "cell_type": "code",
   "execution_count": null,
   "metadata": {
    "vscode": {
     "languageId": "shellscript"
    }
   },
   "outputs": [],
   "source": [
    "## 0. `man` read manual pages\n",
    "man man"
   ]
  },
  {
   "cell_type": "code",
   "execution_count": null,
   "metadata": {
    "vscode": {
     "languageId": "shellscript"
    }
   },
   "outputs": [],
   "source": [
    "## 1. `pdw` - print working directory\n",
    "pwd"
   ]
  },
  {
   "cell_type": "code",
   "execution_count": null,
   "metadata": {
    "vscode": {
     "languageId": "shellscript"
    }
   },
   "outputs": [],
   "source": [
    "## 2. `ls` - list directory contents\n",
    "man ls"
   ]
  },
  {
   "cell_type": "markdown",
   "metadata": {},
   "source": [
    "\n",
    "## 2. Creating, copying, moving, and deleting files and directories\n",
    "\n",
    "1. `mkdir` - make directories. \n",
    "    For example, `mkdir -p /tmp/mydir` will create a directory named `mydir` in the `/tmp` directory. The `-p` option will create the parent directories if they do not exist.\n",
    "2. `rmdir` - remove empty directories\n",
    "3. `rm` - remove files and directories\n",
    "4. `cp` - copy files and directories\n",
    "5. `mv` - move/rename files and directories\n",
    "6. `touch` - create empty files\n",
    "7. `ln` - create links to files. See more with `man ln`.\n"
   ]
  },
  {
   "cell_type": "markdown",
   "metadata": {},
   "source": [
    "## Chaining linux commands\n",
    "\n",
    "Chaining output of one command to another command as input is a very powerful feature of Linux command line. It allows you to combine multiple commands into one command or create a complex pipeline.\n",
    "\n",
    "1. `|` - pipe operator. It takes the output of the command on the left and uses it as input for the command on the right.\n",
    "2. `;` - command separator. It allows you to run multiple commands in succession, regardless of whether each previous command succeeds.\n",
    "3. `&&` - logical AND operator. It allows you to execute a second command after the first command runs successfully.\n",
    "4. `||` - logical OR operator. It allows you to execute a second command if the first command fails.\n"
   ]
  },
  {
   "cell_type": "markdown",
   "metadata": {},
   "source": [
    "## Redirection\n",
    "\n",
    "1. `>` - redirect output to a file. It will overwrite the file if it already exists, so be careful.\n",
    "2. `>>` - redirect output to a file. It will append to the file if it already exists.\n",
    "3. `<` - redirect input from a file.\n",
    "4. `2>` - redirect standard error to a file.\n",
    "5. `&>` - redirect both standard output and standard error to a file.\n",
    "6. `|` - pipe operator. It takes the output of the command on the left and uses it as input for the command on the right.\n"
   ]
  },
  {
   "cell_type": "code",
   "execution_count": null,
   "metadata": {
    "vscode": {
     "languageId": "shellscript"
    }
   },
   "outputs": [],
   "source": [
    "# 1. redirect output to a file\n",
    "ls -l > ls_output.txt\n",
    "\n",
    "# 2. redirect output to a file (append)\n",
    "ls -l >> ls_output.txt\n"
   ]
  },
  {
   "cell_type": "code",
   "execution_count": null,
   "metadata": {
    "vscode": {
     "languageId": "shellscript"
    }
   },
   "outputs": [],
   "source": [
    "\n",
    "# 3. redirect input from a file\n",
    "wc -l < ls_output.txt\n",
    "\n",
    "# Redirecting input from output of another command\n",
    "wc -l <(ls -l) # there must be now spaces between '<' and '('\n",
    "\n",
    "# Multiple input redirection\n",
    "wc -l <(ls -l) <(ls -lah) # Each `<()` creates a virtual file.\n",
    "\n",
    "# Input redirection from a string (here string)\n",
    "wc -l <<< \"Hello World\" # This is usually used when you want to pass a string to a command that expects a file.\n"
   ]
  },
  {
   "cell_type": "code",
   "execution_count": null,
   "metadata": {
    "vscode": {
     "languageId": "shellscript"
    }
   },
   "outputs": [],
   "source": [
    "# 4. Redirecting standard error and standard output to separate files. \n",
    "# This is useful when you want to save the output of a command to a file, but also want to see the output on the screen.\n",
    "ls -l /bin/usr 1> ls_output.txt 2> ls_error.txt\n",
    "\n",
    "# 5. Redirecting standard error and standard output to the same file. (Joining stderr and stdout)\n",
    "# This is useful when you want to see the command output like you would see in the terminal. \n",
    "# But it is a good idea to separate the error messages from the output messages.\n",
    "\n",
    "ls -l /bin/usr > ls_output.txt 2>&1\n",
    "# This does the same thing as above\n",
    "ls -l /bin/usr &> ls_output.txt\n"
   ]
  },
  {
   "cell_type": "code",
   "execution_count": null,
   "metadata": {
    "vscode": {
     "languageId": "shellscript"
    }
   },
   "outputs": [],
   "source": [
    "\n",
    "# 6. Example of piping\n",
    "ls -l | head -n 5\n"
   ]
  },
  {
   "cell_type": "markdown",
   "metadata": {},
   "source": [
    "## 3. Viewing and editing files\n",
    "\n",
    "1. `cat` - concatenate files and print on the standard output\n",
    "2. `less` - read file with pagination\n",
    "3. `more` - read text files with pagination, keeps the text in the terminal after exiting.\n",
    "4. `head` - output the first part of files\n",
    "5. `tail` - output the last part of files\n"
   ]
  },
  {
   "cell_type": "markdown",
   "metadata": {},
   "source": [
    "\n",
    "6. `grep` - print lines matching a pattern. More advanced alternatives which are faster and more user friendly output: `ack` (belonging to \"ack\" package), `rg` (belonging to \"ripgrep\" package)\n",
    "7. `find` - search for files in a directory hierarchy\n",
    "8. `locate` - find files by name\n"
   ]
  },
  {
   "cell_type": "markdown",
   "metadata": {},
   "source": [
    "### vim and emacs\n",
    "\n",
    "1. `vim` - Vi IMproved, a programmers text editor. \n",
    "2. `emacs` - extensible, customizable, self-documenting real-time display editor.\n",
    "\n",
    "Both are very powerful text editors. They have a steep learning curve, but they are worth learning. They are available on most Linux distributions. You can install them with your package manager. For example, on Ubuntu, you can install them with `sudo apt install vim emacs`.\n",
    "\n",
    "Common use cases for vim: \n",
    "- editing configuration files\n",
    "- editing code\n",
    "- editing text files\n",
    "- work with remote servers\n",
    "- work in the terminal\n",
    "\n",
    "Common use cases for emacs:\n",
    "- editing code. Magit is a very powerful git interface for emacs.\n",
    "- editing text files\n",
    "- work with remote servers\n",
    "- work in the terminal\n",
    "- email\n",
    "- calendar\n",
    "\n",
    "Advantages of vim over emacs:\n",
    "\n",
    "- Vim is more lightweight than Emacs.\n",
    "- Vim keybindings are more ergonomic than Emacs keybindings.\n",
    "- Out of the box, Vim is lighter than Emacs and can do core text editing functionality better than Emacs.\n",
    "\n",
    "Advantages of emacs over vim:\n",
    "- Emacs is more powerful than Vim with its plugins.\n",
    "- Elips is a powerful programming language that can be used to extend Emacs.\n",
    "- Many advanced plugins are available for Emacs thanks to the Elips programming language."
   ]
  },
  {
   "cell_type": "markdown",
   "metadata": {},
   "source": [
    "## 4. Searching for files\n"
   ]
  },
  {
   "cell_type": "markdown",
   "metadata": {},
   "source": [
    "File search can be done with: \n",
    "\n",
    "1. `find` - search for files in a directory hierarchy by `name`, `type`, `size`, `modified time`, `permissions`, `owner`, `group`, etc.\n",
    "2. `locate` - find files by name. It is faster than `find` because it uses a database of files and directories on the system. The database is updated periodically by a cron job. The database is usually updated once a day. If you want to update the database manually, you can run `sudo updatedb`.\n",
    "3. `which` - locate a command\n",
    "4. `whereis` - locate the binary, source, and manual page files for a command\n",
    "5. `grep` - print lines matching a pattern. More advanced alternatives which are faster and more user friendly output: `ack` (belonging to \"ack\" package), `rg` (belonging to \"ripgrep\" package)\n"
   ]
  },
  {
   "cell_type": "markdown",
   "metadata": {},
   "source": [
    "\n",
    "## 5. Getting help\n",
    "\n",
    "1. `man` - read manual pages of commands installed on the system\n",
    "2. `info` - read documentation in info format\n",
    "3. `--help` - get help for a command\n",
    "4. `apropos` - search the manual page names and descriptions\n",
    "5. `whatis` - display one-line manual page descriptions\n",
    "6. `alias` - create an alias for a command\n",
    "7. `help` - get help for shell builtins\n"
   ]
  },
  {
   "cell_type": "markdown",
   "metadata": {},
   "source": [
    "## 6. Managing processes\n",
    "\n",
    "1. `ps` - report a snapshot of the current processes\n",
    "2. `top` - display Linux processes\n",
    "3. `kill` - send a signal to a process\n",
    "4. `killall` - kill processes by name\n",
    "5. `pkill` - send a signal to a process by name\n",
    "6. `pgrep` - look up or signal processes based on name and other attributes\n",
    "7. `jobs` - list active jobs\n",
    "8. `bg` - run jobs in the background\n",
    "9. `fg` - run jobs in the foreground\n",
    "10. `nice` - run a command with modified scheduling priority\n",
    "11. `renice` - alter priority of running processes\n",
    "12. `nohup` - run a command immune to hangups, with output to a non-tty\n",
    "13. `pstree` - display a tree of processes\n",
    "14. `htop` - interactive process viewer\n",
    "15. `atop` - advanced interactive process viewer\n",
    "16. `iotop` - simple top-like I/O monitor\n",
    "17. `strace` - trace system calls and signals\n",
    "18. `lsof` - list open files\n",
    "19. `fuser` - identify processes using files or sockets\n",
    "20. `uptime` - tell how long the system has been running\n",
    "21. `w` - show who is logged on and what they are doing\n",
    "22. `who` - show who is logged on\n",
    "23. `last` - show a listing of last logged in users\n",
    "24. `lastlog` - reports the most recent login of all users or of a given user\n",
    "25. `killall5` - send a signal to all processes\n"
   ]
  },
  {
   "cell_type": "markdown",
   "metadata": {},
   "source": [
    "## 7. Managing users and groups\n",
    "\n",
    "1. `useradd` - create a new user or update default new user information\n",
    "2. `userdel` - delete a user account and related files\n",
    "3. `usermod` - modify a user account\n",
    "4. `passwd` - change user password\n",
    "5. `groupadd` - create a new group\n",
    "6. `groupdel` - delete a group\n",
    "7. `groupmod` - modify a group\n",
    "8. `chage` - change user password expiry information\n",
    "9. `newgrp` - log in to a new group\n",
    "10. `id` - print real and effective user and group IDs\n",
    "11. `whoami` - print effective userid\n",
    "12. `who` - show who is logged on\n",
    "13. `w` - show who is logged on and what they are doing\n",
    "14. `last` - show a listing of last logged in users\n",
    "15. `lastlog` - reports the most recent login of all users or of a given user\n",
    "16. `chfn` - change real user name and information\n",
    "17. `chsh` - change login shell\n",
    "18. `su` - change user ID or become superuser\n",
    "19. `sudo` - execute a command as another user\n",
    "20. `visudo` - edit the sudoers file\n",
    "\n"
   ]
  },
  {
   "cell_type": "markdown",
   "metadata": {},
   "source": [
    "## 8. Managing permissions\n",
    "\n",
    "1. `chmod` - change file mode bits\n",
    "2. `chown` - change file owner and group\n",
    "3. `chgrp` - change group ownership\n",
    "4. `umask` - get or set the file mode creation mask\n",
    "5. `passwd` - change user password\n",
    "6. `su` - change user ID or become superuser\n",
    "7. `sudo` - execute a command as another user\n",
    "8. `visudo` - edit the sudoers file\n"
   ]
  },
  {
   "cell_type": "markdown",
   "metadata": {},
   "source": [
    "## 9. Managing software packages\n",
    "\n",
    "1. `apt` - command-line interface for managing packages. It is a successor of `apt-get` with more user friendly output.\n",
    "2. `apt-get` - command-line interface for managing packages. It is a predecessor of `apt`, still have some features that `apt` does not have. \n",
    "3. `apt-cache` - query the APT cache\n",
    "4. `apt-config` - query APT configuration\n",
    "5. `dpkg` - package manager for Debian\n",
    "6. `dpkg-deb` - Debian package archive (.deb) manipulation tool\n",
    "7. `dpkg-query` - a tool to query the dpkg database\n",
    "8. `dpkg-reconfigure` - reconfigure an already installed package\n",
    "9. `dpkg-divert` - override a package's version of a file\n",
    "10. `dpkg-statoverride` - override ownership and mode of files\n",
    "11. `dpkg-preconfigure` - let packages ask questions prior to their installation\n",
    "12. `aptitude` - high-level interface to the package manager\n",
    "13. `apt-file` - search for files within Debian packages\n",
    "14. `apt-mark` - show, set and unset various settings for a package (from package \"apt\")\n",
    "15. `apt-listchanges` - show changelog entries of Debian packages (from package \"apt-listchanges\")\n",
    "16. `apt-listbugs` - list critical bugs before each package installation (from package \"apt-listbugs\")\n",
    "17. `apt-secure` - apt security extension (from package \"apt\", run in form of sub command `apt secure`)\n",
    "18. `apt-show-versions` - lists available package versions with distribution (from package \"apt-show-versions\")\n",
    "19. `apt-cdrom` - APT CD-ROM management utility"
   ]
  },
  {
   "cell_type": "code",
   "execution_count": null,
   "metadata": {
    "vscode": {
     "languageId": "shellscript"
    }
   },
   "outputs": [],
   "source": []
  },
  {
   "cell_type": "markdown",
   "metadata": {},
   "source": [
    "## 10. Managing services\n",
    "\n",
    "1. `systemctl` - control the systemd system and service manager\n",
    "2. `service` - run a System V init script\n",
    "3. `chkconfig` - updates and queries runlevel information for system services\n",
    "4. `update-rc.d` - install and remove System-V style init script links\n",
    "5. `rcconf` - Debian Runlevel configuration tool\n",
    "\n"
   ]
  },
  {
   "cell_type": "markdown",
   "metadata": {},
   "source": [
    "## 11. Managing storage\n",
    "\n",
    "1. `df` - report file system disk space usage\n",
    "2. `du` - estimate file space usage\n",
    "3. `mount` - mount a file system\n",
    "4. `umount` - unmount file systems\n",
    "5. `fsck` - check and repair a Linux file system\n",
    "6. `mkfs` - build a Linux file system\n",
    "7. `mkswap` - set up a Linux swap area\n",
    "8. `swapon` - enable devices and files for paging and swapping\n",
    "9. `swapoff` - disable devices and files for paging and swapping\n",
    "10. `parted` - a partition manipulation program\n",
    "11. `fdisk` - manipulate disk partition table\n",
    "12. `gdisk` - interactive GUID partition table (GPT) manipulator\n",
    "13. `sfdisk` - partition table manipulator for Linux\n",
    "14. `lsblk` - list block devices\n",
    "15. `blkid` - locate/print block device attributes\n",
    "16. `mountpoint` - see if a directory or file is a mountpoint\n",
    "17. `findmnt` - find a filesystem\n",
    "18. `lsof` - list open files\n",
    "19. `fuser` - identify processes using files or sockets\n",
    "20. `hdparm` - get/set SATA/IDE device parameters\n",
    "21. `smartctl` - control and monitor utility for SMART disks\n",
    "22. `mdadm` - manage MD devices aka Linux Software RAID\n",
    "23. `dmidecode` - DMI table decoder\n",
    "24. `lshw` - list hardware\n",
    "25. `lspci` - list all PCI devices\n",
    "26. `lsusb` - list USB devices\n",
    "27. `lsscsi` - list SCSI devices (or hosts) and their attributes\n"
   ]
  },
  {
   "cell_type": "markdown",
   "metadata": {},
   "source": [
    "## 12. Managing system logs\n",
    "\n",
    "1. `journalctl` - query the systemd journal\n",
    "2. `dmesg` - print or control the kernel ring buffer\n",
    "3. `logger` - a shell command interface to the syslog system log module\n",
    "4. `logrotate` - rotates, compresses, and mails system logs\n",
    "5. `logsave` - save the output of a command in a logfile\n",
    "6. `rsyslogd` - reliable and extended syslogd\n",
    "7. `syslogd` - system log daemon\n",
    "\n"
   ]
  },
  {
   "cell_type": "markdown",
   "metadata": {},
   "source": [
    "## 13. Managing the network\n",
    "\n",
    " 1.\t `ip` - show / manipulate routing, devices, policy routing and tunnels\n",
    " 2.\t `ifconfig` - configure a network interface. This command may be deprecated. Use `ip` instead.\n",
    " 3.\t `route` - show / manipulate the IP routing table\n",
    " 4.\t `traceroute` - print the route packets trace to network host\n",
    " 5.\t `mtr` - a network diagnostic tool\n",
    " 6.\t `ping` - send ICMP ECHO_REQUEST to network hosts\n",
    " 7.\t `arp` - manipulate the system ARP cache\n",
    " 8.\t `arping` - send ARP REQUEST to a neighbour host\n",
    " 9.\t `dig` - DNS lookup utility\n",
    "10.\t `host` - DNS lookup utility\n",
    "11.\t `nslookup` - query Internet name servers interactively\n",
    "12.\t `netstat` - Print network connections, routing tables, interface statistics, masquerade connections, and multicast memberships\n",
    "13.\t `ss` - another utility to investigate sockets\n",
    "14.\t `tcpdump` - dump traffic on a network\n",
    "15.\t `wireshark` - network traffic analyzer\n",
    "16.\t `nmap` - Network exploration tool and security / port scanner\n",
    "17.\t `nc` - arbitrary TCP and UDP connections and listens\n",
    "18.\t `telnet` - user interface to the TELNET protocol\n",
    "19.\t `ssh` - OpenSSH SSH client (remote login program)\n",
    "20.\t `scp` - OpenSSH secure file copy (remote file copy program)\n",
    "21.\t `sftp` - OpenSSH secure file transfer (interactive file transfer program)\n",
    "22.\t `ftp` - Internet file transfer program\n",
    "23.\t `wget` - The non-interactive network downloader\n",
    "24.\t `rsync` - a fast, versatile, remote (and local) file-copying tool\n",
    "25.\t `curl` - transfer a URL\n",
    "26.\t `netcat` - arbitrary TCP and UDP connections and listens\n",
    "27.\t `socat` - establishes two bidirectional byte streams and transfers data between them\n",
    "28.\t `iptables` - administration tool for IPv4 packet filtering and NAT\n",
    "29.\t `ip6tables` - administration tool for IPv6 packet filtering and NAT\n",
    "30.\t `firewalld` - dynamic firewall daemon\n",
    "31.\t `ufw` - program for managing a netfilter firewall\n",
    "32.\t `nft` - administration tool for nftables\n",
    "33.\t `nftables` - packet filtering and classification framework\n",
    "34.\t `tcpd` - access control facility for internet services\n",
    "35.\t `tcpdmatch` - test whether a host or a network address matches the access control rules\n",
    "36.\t `tcpdchk` - check the tcp wrapper configuration file\n"
   ]
  },
  {
   "cell_type": "markdown",
   "metadata": {},
   "source": [
    "### Understand IP addresses, network masks and CIDR notation\n",
    "\n",
    "1. IP address\n",
    "\n",
    "IP address is a unique address that identifies a device on the internet or a local network. It is a 32-bit number that is usually represented in dotted decimal notation. For example, `192.168.0.1` is an IP address.\n",
    "\n",
    "IP addresses are divided into two parts: network part and host part. The network part identifies a network and the host part identifies a device on the network. The network part is determined by the network mask. The host part is determined by the IP address itself. \n",
    "\n",
    "For example, A address `192.168.0.1` may have the following networks: \n",
    "- `192.x.x.x` if the network mask is `255.0.0.0`. This is a class A network. The `x` represents the host part of the IP address.\n",
    "- `192.168.x.x` if the network mask is `255.255.0.0`. This is a class B network.\n",
    "- `192.168.0.x` if the network mask is `255.255.255.0`. This is a class C network. \n",
    "\n",
    "2. Network mask\n",
    "\n",
    "Network masks can be written in dotted decimal notation or CIDR notation. For example: \n",
    "\n",
    "| Network mask | CIDR notation | Binary Mask |\n",
    "| --- | --- | --- |\n",
    "| 255.0.0.0 | /8 | 11111111.00000000.00000000.00000000 |\n",
    "|255.255.0.0 | /16 | 11111111.11111111.00000000.00000000 |\n",
    "|255.255.255.0 | /24 | 11111111.11111111.11111111.00000000 |\n",
    "|255.255.255.128 | /25 | 11111111.11111111.11111111.10000000 | \n",
    "|255.255.255.192 | /26 | 11111111.11111111.11111111.11000000 |\n",
    "|255.255.255.198 | /27 | 11111111.11111111.11111111.11100000 |\n",
    "|255.255.255.240 | /28 | 11111111.11111111.11111111.11110000 |\n",
    "|255.255.255.252 | /30 | 11111111.11111111.11111111.11111100 |\n",
    "\n",
    "From this table we can see that the network mask is a binary number that has `n` leading `1`s and `32-n` trailing `0`s. `n` is the number of bits in the network part of the IP address. Decimal representation of the network mask is obtained by converting the binary number to decimal.\n",
    "CIDR notation is a shorthand for writing network masks. It is written as `/n` where `n` is the number of bits in the network part of the IP address. For example, `/8` means the network mask has 8 leading `1`s and 24 trailing `0`s.\n"
   ]
  },
  {
   "cell_type": "markdown",
   "metadata": {},
   "source": [
    "### Tools for transferring files between computers\n",
    "\n",
    "1. `rsync` - a fast, versatile, remote (and local) file-copying tool. Many features for syncing files between computers.\n",
    "2. `scp` - OpenSSH secure file copy (remote file copy program). Lightweight tool for copying files between computers.\n",
    "3. `sftp` - OpenSSH secure file transfer (interactive file transfer program). Lightweight tool for transferring files between computers.\n",
    "4. `fpsync` - synchronize files using rsync and fpart. It is a wrapper around rsync and fpart. It is useful for syncing large files or large number of files."
   ]
  },
  {
   "cell_type": "markdown",
   "metadata": {},
   "source": [
    "## 14. Managing the firewall\n",
    "\n",
    "1. `iptables` - administration tool for IPv4 packet filtering and NAT\n",
    "2. `ip6tables` - administration tool for IPv6 packet filtering and NAT\n",
    "3. `firewalld` - dynamic firewall daemon\n",
    "4. `ufw` - program for managing a netfilter firewall\n",
    "5. `nft` - administration tool for nftables\n",
    "6. `nftables` - packet filtering and classification framework\n",
    "\n",
    "### Understand the concept of firewall\n",
    "\n",
    "A firewall is a network security system that monitors and controls incoming and outgoing network traffic based on predetermined security rules. A firewall typically establishes a barrier between a trusted internal network and untrusted external network, such as the Internet. \n",
    "\n",
    "Firewall works by inspecting packets and determining whether they should be allowed through or not, based on rules that you define which usually specify source IP address, destination IP address, source port, destination port, protocol, etc. \n",
    "\n",
    "Network ports are the communication endpoints for network applications. A port number is a 16-bit unsigned integer, thus ranging from 0 to 65535. \n",
    "Network protocols use port numbers  together with the IP address to send and receive data. For example, HTTP uses port 80, HTTPS uses port 443, SSH uses port 22, etc.\n",
    "\n",
    "`iptables` is a firewall utility that is used to set up, maintain, and inspect the tables of IP packet filter rules in the Linux kernel. It is the most widely used firewall utility in Linux. It is a command-line utility. It is very powerful and flexible. It is also very complex and difficult to use. \n",
    "\n",
    "`iptables` organizes its rules into the following tables:\n",
    "- `filter` - used for packet filtering. It is the default table.\n",
    "- `nat` - used for network address translation (e.g. port forwarding).\n",
    "- `mangle` - used for specialized packet alteration.\n",
    "- `raw` - used for configuring exemptions from connection tracking.\n",
    "- `security` - used for Mandatory Access Control networking rules.\n",
    "\n",
    "\n",
    "\n"
   ]
  },
  {
   "cell_type": "markdown",
   "metadata": {},
   "source": [
    "## 15. Managing the kernel\n",
    "\n",
    "1. `uname` - print system information\n",
    "2. `dmesg` - print or control the kernel ring buffer\n",
    "3. `lsmod` - show the status of modules in the Linux Kernel\n",
    "4. `modinfo` - show information about a Linux Kernel module\n",
    "5. `modprobe` - add and remove modules from the Linux Kernel\n",
    "6. `insmod` - simple program to insert a module into the Linux Kernel\n",
    "7. `rmmod` - simple program to remove a module from the Linux Kernel\n",
    "8. `depmod` - program to generate modules.dep and map files\n",
    "9. `kmod` - program to manage Linux Kernel modules\n",
    "10. `sysctl` - configure kernel parameters at runtime\n",
    "11. `sysctl.d` - configure kernel parameters at boot\n",
    "12. `sysfs` - a virtual file system that exports information about various kernel subsystems, hardware devices, and associated device drivers from the kernel's device model to user space through virtual files\n",
    "13. `procfs` - a virtual file system that presents information about processes and other system information in a hierarchical file-like structure\n",
    "\n"
   ]
  },
  {
   "cell_type": "markdown",
   "metadata": {},
   "source": [
    "## 16. Managing the boot process\n",
    "\n",
    "1. `systemd` - a system and service manager for Linux\n",
    "2. `systemctl` - control the systemd system and service manager\n",
    "3. `systemd-analyze` - analyze and debug system manager\n",
    "4. `systemd-boot` - simple UEFI boot manager\n",
    "5. `systemd-cgls` - show systemd cgroups in a tree\n",
    "6. `systemd-cgtop` - show systemd cgroups in a top-like format\n",
    "7. `systemd-delta` - find overridden configuration files\n",
    "8. `systemd-detect-virt` - detect execution in a virtualized environment\n",
    "9. `systemd-escape` - escape strings for usage in systemd unit names\n",
    "10. `systemd-hwdb` - hardware database management tool\n",
    "11. `systemd-inhibit` - execute a program with an inhibition lock taken\n",
    "12. `systemd-machine-id-setup` - initialize the machine ID in /etc/machine-id\n",
    "13. `systemd-notify` - notify service manager about start-up completion and other daemon status changes\n",
    "14. `systemd-path` - convert paths between various different representations\n",
    "15. `systemd-resolve` - Resolve domain names, IPV4 and IPv6 addresses, DNS resource records, and services with the systemd-resolved.service\n",
    "16. `systemd-run` - run programs in transient scope or service units\n",
    "17. `systemd-socket-proxyd` - Bidirectionally proxy local sockets to another address\n",
    "18. `systemd-stdio-bridge` - Bridge between stdin/stdout and a socket\n",
    "19. `systemd-sysusers` - Allocate system users and groups\n",
    "20. `systemd-tmpfiles` - Create, delete and clean up volatile and temporary files and directories\n",
    "21. `systemd-tty-ask-password-agent` - Listens for password read requests from the system and shows a password prompt on the system console\n",
    "22. `systemd-umount` - unmount file systems\n",
    "23. `systemd-mount` - mount file systems"
   ]
  },
  {
   "cell_type": "markdown",
   "metadata": {},
   "source": [
    "## 17. Managing the system clock\n",
    "\n",
    "1. `date` - print or set the system date and time\n",
    "2. `hwclock` - query and set the hardware clock (RTC)\n",
    "3. `timedatectl` - control the system time and date\n",
    "4. `ntpdate` - set the date and time via NTP\n",
    "5. `ntpd` - Network Time Protocol (NTP) daemon\n",
    "6. `ntpq` - standard NTP query program\n",
    "7. `ntptime` - read kernel time variables\n",
    "8. `ntpstat` - show network time synchronisation status\n",
    "9. `chronyc` - command-line interface for chrony daemon\n",
    "10. `chronyd` - chrony daemon\n",
    "11. `chrony.conf` - chrony configuration file\n",
    "12. `tzselect` - view time zone information\n",
    "13. `tzdata` - time zone and daylight-saving time data\n",
    "14. `tzdata-update` - update time zone information\n",
    "15. `tzdata-zdump` - timezone dumper"
   ]
  },
  {
   "cell_type": "markdown",
   "metadata": {},
   "source": [
    "\n",
    "## 18. Managing the hardware\n",
    "\n",
    "1. `lshw` - list hardware\n",
    "2. `lspci` - list all PCI devices\n",
    "3. `lsusb` - list USB devices\n",
    "4. `lsscsi` - list SCSI devices (or hosts) and their attributes\n",
    "5. `lsblk` - list block devices\n",
    "6. `blkid` - locate/print block device attributes\n",
    "7. `hdparm` - get/set SATA/IDE device parameters\n",
    "8. `smartctl` - control and monitor utility for SMART disks\n",
    "9. `dmidecode` - DMI table decoder\n",
    "10. `hwinfo` - probes for the hardware present in the system\n",
    "11. `inxi` - a full featured system information script\n",
    "12. `lsdev` - list devices\n",
    "13. `lspnp` - list PnP devices\n",
    "14. `lshal` - list HAL devices\n",
    "15. `lscpu` - display information about the CPU architecture\n",
    "16. `lsipc` - show information on IPC facilities currently employed in the system\n",
    "17. `lslogins` - display information about known users in the system\n",
    "18. `lsns` - list information about active namespaces\n"
   ]
  },
  {
   "cell_type": "markdown",
   "metadata": {},
   "source": [
    "# More advanced topics\n",
    "\n",
    "1. setuid, setgid, and the Sticky Bit\n",
    "2. File system quotas\n",
    "3. File system permissions\n",
    "4. File system attributes\n",
    "5. File system journaling\n",
    "6. File system encryption\n",
    "7. File system compression\n",
    "8. File system snapshots\n",
    "9. File system backups\n",
    "10. File system recovery\n",
    "11. File system integrity\n",
    "12. File system monitoring\n",
    "13. File system tuning\n",
    "14. File system benchmarking\n",
    "15. File system virtualization\n"
   ]
  },
  {
   "cell_type": "markdown",
   "metadata": {},
   "source": [
    "## 1. setuid, setgid, and the Sticky Bit\n",
    "\n",
    "1. `chmod` - change file mode bits\n",
    "2. `chown` - change file owner and group\n",
    "3. `chgrp` - change group ownership\n",
    "4. `umask` - get or set the file mode creation mask\n",
    "5. `passwd` - change user password\n",
    "6. `su` - change user ID or become superuser\n",
    "7. `sudo` - execute a command as another user\n",
    "8. `visudo` - edit the sudoers file\n",
    "\n",
    "### Understand the concept of setuid, setgid, and the Sticky Bit\n",
    "\n",
    "1. setuid\n",
    "setuid is a special permission that can be assigned to executable files. It allows the executable file to run as the owner of the file. For example, if the owner of the file is `root`, then the executable file will run as `root` even if it is executed by a normal user. \n",
    "\n",
    "The safe use of setuid is very important. If an executable file has setuid permission and it is owned by `root`, then it can be used to gain root access to the system.\n",
    "It is safe to use setuid if either by normal user or if owned by `root` and the executable file is not writable by normal users. `setuid`-ed executables also must not call anything with relative paths, as this can be used to trick the program into executing something else. \n",
    "\n",
    "Common valid programs with setuid permission:\n",
    "- `passwd` - change user password\n",
    "- `su` - change user ID or become superuser\n",
    "- `sudo` - execute a command as another user\n"
   ]
  },
  {
   "cell_type": "markdown",
   "metadata": {},
   "source": [
    "## 2. File system quotas\n",
    "\n",
    "Disk quotas is a feature of the Linux kernel that allows the system administrator to allocate a maximum amount of disk space a user or group may use. It is a very useful feature for multi-user systems. It prevents users from using too much disk space. It also prevents users from filling up the disk and causing problems for other users.\n",
    "\n",
    "1. `quota` - display disk usage and limits\n",
    "2. `edquota` - edit user quotas\n",
    "3. `repquota` - summarize quotas for a filesystem\n",
    "4. `quotaon` - turn filesystem quotas on and off\n",
    "5. `quotaoff` - turn filesystem quotas on and off\n",
    "6. `quotacheck` - scan a filesystem for disk usage, create, check and repair quota files\n",
    "7. `quota_nld` - quota netlink message daemon\n",
    "8. `quota_nld_selinux` - Security Enhanced Linux Policy for the quota_nld processes\n",
    "9. `quota_selinux` - Security Enhanced Linux Policy for the quota processes\n",
    "10. `quotastats` - quota statistics\n",
    "11. `quota-tools` - Linux quota management tools\n",
    "12. `quota-warnquota` - send mail to users over quota\n",
    "13. `xfs_quota` - administer XFS quotas\n",
    "14. `xfs_quota_selinux` - Security Enhanced Linux Policy for the xfs_quota processes\n",
    "\n",
    "\n",
    "You may need to install the following packages to use the tools for quota management: \n",
    "- `quota` - display disk usage and limits\n",
    "- `quota-tools` - Linux quota management tools\n",
    "- `xfsprogs` - Utilities for managing the XFS filesystem\n"
   ]
  },
  {
   "cell_type": "markdown",
   "metadata": {},
   "source": [
    "## 3. File system permissions\n",
    "\n",
    "File system permissions are used to control who can read, write, and execute files and directories. They are very important for the security of the system.\n",
    "\n",
    "These are the tools you may use to manage file system permissions:\n",
    "\n",
    "1. `chmod` - change file mode bits\n",
    "2. `chown` - change file owner and group\n",
    "3. `chgrp` - change group ownership\n",
    "4. `umask` - get or set the file mode creation mask\n",
    "5. `passwd` - change user password\n",
    "6. `su` - change user ID or become superuser\n",
    "7. `sudo` - execute a command as another user\n",
    "8. `visudo` - edit the sudoers file\n",
    "\n",
    "### Understand the concept of file system permissions\n",
    "\n",
    "Permissions are assigned to three classes of users: `owner`, `group`, and `others`. \n",
    "\n",
    "- `owner` (shorthand `u` from '**u**ser'): The owner is the user who owns the file or directory. \n",
    "- `group` (shorthand `g`): The group is the group of users who have access to the file or directory.\n",
    "- `others` (shorthand `o`): Others are users who are neither the owner nor in the group.\n",
    "\n",
    "There are three types of permissions: `read`, `write`, and `execute`. \n",
    "- **Read**(shorthand `r`): permission allows the user to read the file or directory.\n",
    "- **Write**(shorthand `w`): permission allows the user to write to the file or directory.\n",
    "- **Execute**(shorthand `x`): permission allows the user to execute the file or access the directory.\n",
    "\n",
    "\n",
    "You may see the following characters in the output of `ls -l` command: \n",
    "\n",
    "| Character | Meaning |\n",
    "| --- | --- |\n",
    "| `-` | no permission |\n",
    "| `r` | read permission |\n",
    "| `w` | write permission |\n",
    "| `x` | execute permission |\n",
    "| `s` | setuid or setgid permission |\n",
    "| `t` | sticky bit permission |\n",
    "| `S` | setuid or setgid permission without execute permission |\n",
    "| `T` | sticky bit permission without execute permission |\n",
    "| `d` | directory |\n",
    "| `l` | symbolic link |\n",
    "| `c` | character device |\n",
    "| `b` | block device |\n",
    "| `p` | named pipe |\n",
    "| `s` | socket |\n",
    "\n",
    "The permission representation showed by `ls` 10 characters in this format from left to right: \n",
    "| 1| 2 - 4 | 5 - 7 | 8 - 10 |\n",
    "| --- | --- | --- | --- |\n",
    "| file type | owner permission | group permission | other permission |\n",
    "\n",
    "\n",
    "For example: \n",
    "\n",
    "```\n",
    "$ ls -l /bin/ls\n",
    "-rwxr-xr-x 1 root root 133464 Nov  6  2023 /bin/ls\n",
    "\n",
    "```\n",
    "**It is important to the fixed order of `r`, `w`, and `x` in the following order: `rwx` in a group.**\n",
    "\n",
    "The permission `-rwxr-xr-x` is always 10 characters, is read from left to right, in groups of 1, 3, 3, and 3 characters: \n",
    "\n",
    "- Character 1 for file type: `-` (file), `d` (directory), `l` (symbolic link), `c` (character device), `b` (block device), `p` (named pipe), `s` (socket).\n",
    "- Character 2-4: Owner permission. In this case, `rwx` is read, write, and execute for owner.\n",
    "- Character 5-7: Group permisison. In this case, `r-x` is read and execute for group.\n",
    "- Character 8-10: Other permission. In this case, `r-x` is read and execute for others.\n",
    "\n",
    "\n",
    "```\n",
    "$ ls -l /tmp\n",
    "drwxrwxrwt  2 root root  4096 Dec  1 15:00 /tmp\n",
    "```\n",
    "The permission `drwxrwxrwt` is read from left to right, in groups of 1, 3, 3, and 3 characters: `d`, `rwx`, `rwx`, `rwx`. The first character `d` means it is a directory. The first group of 3 characters `rwx` means the owner has read, write, and execute permissions. The second group of 3 characters `rwx` means the group has read, write, and execute permissions. The third group of 3 characters `rwt` means others have read, write, and execute permissions. The last character `t` means the sticky bit is set.\n",
    "\n"
   ]
  },
  {
   "cell_type": "markdown",
   "metadata": {},
   "source": [
    "### Setting file system permissions\n",
    "\n",
    "`chmod` is used to change file system permissions. It can be used to set permissions for owner, group, and others. It can also be used to set permissions for multiple classes of users at the same time.\n",
    "\n",
    "`chmod` can be used in two ways:\n",
    "\n",
    "1. Symbolic mode\n",
    "\n",
    "```bash\n",
    "chmod [-R] [ugoa...][[+-=][rwxX]...][,...] file...\n",
    "# -R means recursive. It is used to set permissions for files and directories to all files and subdirectories under the directory. \n",
    "# Example:\n",
    "chmod u=rwx,g=rx,o=rx /tmp/myfile # set user to rwx, group and others to rx\n",
    "chmod a=rwx /tmp/myfile # set all to rwx\n",
    "chmod u=rwx,go=rx /tmp/myfile # set user to rwx, group and others to rx\n",
    "chmod u=rwx,go= /tmp/myfile # set user to rwx, group and others to nothing\n",
    "chmod og-rwx /tmp/myfile # remove rwx from group and others\n",
    "chmod a+x /tmp/myfile # add execute permission to all\n",
    "chmod a-x /tmp/myfile # remove execute permission from all\n",
    "chmod a=rwx /tmp/myfile # set all to rwx\n",
    "chmod u+x,g=rw,o-rwx /tmp/myfile # add read and write permission, set rw for group, remove all for others\n",
    "\n",
    "```\n",
    "\n",
    "2. Absolute mode\n",
    "\n",
    "The mode is an octal number. It is a 3-digit number. Each digit represents the permission for owner, group, and others respectively.\n",
    "\n",
    "| Octal | Binary | Character | Permission |\n",
    "|--- | --- | --- | --- |\n",
    "| 0 | 000 | --- | no permission |\n",
    "| 1 | 001 | --x | execute permission |\n",
    "| 2 | 010 | -w- | write permission |\n",
    "| 3 | 011 | -wx | write and execute permission |\n",
    "| 4 | 100 | r-- | read permission |\n",
    "| 5 | 101 | r-x | read and execute permission |\n",
    "| 6 | 110 | rw- | read and write permission |\n",
    "| 7 | 111 | rwx | read, write, and execute permission |\n",
    "\n",
    "\n",
    "```bash\n",
    "chmod [-R] [mode] file...\n",
    "chmod 755 /tmp/myfile # set user to rwx, group to rx, others to rx\n",
    "chmod 777 /tmp/myfile # set all to rwx\n",
    "chmod 750 /tmp/myfile # set user to rwx, group to rx, others to nothing\n",
    "chmod 660 /tmp/myfile # set user to rw, group to rw, others to nothing\n",
    "```"
   ]
  },
  {
   "cell_type": "markdown",
   "metadata": {},
   "source": [
    "### Setting file system permissions with ACL\n",
    "\n",
    "ACL stands for Access Control List. It is an extension of the standard file system permissions. It allows you to set permissions for multiple users and groups. It is more flexible than standard file system permissions.\n",
    "\n",
    "ACL is enabled by default on most Linux distributions. You can check if ACL is enabled with the following command:\n",
    "\n",
    "```bash\n",
    "$ mount | grep acl\n",
    "/dev/sda1 on / type ext4 (rw,relatime,errors=remount-ro,acl)\n",
    "```\n"
   ]
  },
  {
   "cell_type": "markdown",
   "metadata": {},
   "source": [
    "## 4. File system attributes\n"
   ]
  },
  {
   "cell_type": "markdown",
   "metadata": {},
   "source": [
    "## 5. File system journaling\n"
   ]
  },
  {
   "cell_type": "markdown",
   "metadata": {},
   "source": [
    "## 6. File system encryption\n"
   ]
  },
  {
   "cell_type": "markdown",
   "metadata": {},
   "source": [
    "## 7. File system compression\n"
   ]
  },
  {
   "cell_type": "markdown",
   "metadata": {},
   "source": [
    "## 8. File system snapshots\n"
   ]
  },
  {
   "cell_type": "markdown",
   "metadata": {},
   "source": [
    "## 9. File system backups\n"
   ]
  },
  {
   "cell_type": "markdown",
   "metadata": {},
   "source": [
    "## 10. File system recovery\n"
   ]
  },
  {
   "cell_type": "markdown",
   "metadata": {},
   "source": [
    "## 11. File system integrity\n"
   ]
  },
  {
   "cell_type": "markdown",
   "metadata": {},
   "source": [
    "## 12. File system monitoring\n"
   ]
  },
  {
   "cell_type": "markdown",
   "metadata": {},
   "source": [
    "## 13. File system tuning\n"
   ]
  },
  {
   "cell_type": "markdown",
   "metadata": {},
   "source": [
    "## 14. File system benchmarking\n"
   ]
  },
  {
   "cell_type": "markdown",
   "metadata": {},
   "source": [
    "## 15. File system virtualization"
   ]
  },
  {
   "cell_type": "markdown",
   "metadata": {},
   "source": []
  }
 ],
 "metadata": {
  "kernelspec": {
   "display_name": "Bash",
   "language": "bash",
   "name": "bash"
  },
  "language_info": {
   "codemirror_mode": "shell",
   "file_extension": ".sh",
   "mimetype": "text/x-sh",
   "name": "bash"
  }
 },
 "nbformat": 4,
 "nbformat_minor": 2
}
