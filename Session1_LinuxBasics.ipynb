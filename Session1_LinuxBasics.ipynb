{
 "cells": [
  {
   "cell_type": "markdown",
   "metadata": {},
   "source": [
    "\n",
    "# Introduction to Linux and Basic Commands\n",
    "*Objective: Familiarize students with the Linux OS and basic command-line interface.*\n",
    "\n",
    "## Introduction to Linux OS (45 minutes)\n",
    "1. Open Source and Free\n",
    "    - Your learning and working without software and tools written in R, Python, C, C++, Julia, Java?\n",
    "2. Stability and Reliability\n",
    "3. Powerful Command-Line Interface\n",
    "4. Widespread Use in Scientific Computing\n",
    "5. Community and Support\n",
    "6. Customizability and Control\n",
    "    - Customizable and programmable. \n",
    "7. Security and Privacy\n",
    "8. Large Software Repository\n",
    "9. Compatibility with Cloud and Server Environments\n",
    "10. Skill Development for Professional Growth\n"
   ]
  },
  {
   "cell_type": "markdown",
   "metadata": {},
   "source": [
    "### Overview of Linux in statistical and bioinformatics computing\n",
    "\n",
    "Why do we use Linux in statistical and bioinformatics computing?\n"
   ]
  },
  {
   "cell_type": "markdown",
   "metadata": {},
   "source": [
    "# Conceptual structure of a Linux system\n",
    "\n",
    "![Linux architecture](images/linuxarch.jpg)\n",
    "\n",
    "(image source: https://madhuakula.com/content/linux-security-internals/linuxarch/)\n",
    "\n",
    "More readings about Linux architecture https://www.javatpoint.com/architecture-of-linux\n",
    "\n",
    "\n"
   ]
  },
  {
   "cell_type": "markdown",
   "metadata": {},
   "source": [
    "### Main direcotry and theire functions"
   ]
  },
  {
   "cell_type": "markdown",
   "metadata": {},
   "source": [
    "Linux file system hierarchy\n",
    "https://en.wikipedia.org/wiki/Filesystem_Hierarchy_Standard\n",
    "\n",
    "Roles of each typical directory in Linux file system. You would not create any of these directories yourself. They are created automatically when you install the operating system or add packages later on.\n",
    "Folder are sorted by rough frequency of use. The most frequently used folders are at the top.\n",
    "\n",
    "| Directory | Description |\n",
    "| --- | --- |\n",
    "|**/**| Root directory. All other directories are subdirectories of root.|\n",
    "|**/home**| Home directories for all users on the system. It is also possible to setup home directories to a custom location.|\n",
    "|**/usr**| User programs. This is the largest directory in a typical Linux system. It contains all the user binaries, their documentation, libraries, header files, etc.|\n",
    "|**/etc**| System-wide configuration files.|\n",
    "|**/bin**| Keep binary or scripts that are executable/runnable system-wide |\n",
    "|**/tmp**| Temporary files. These files are generally deleted upon reboot.|\n",
    "|**/boot**| Boot directory contains files for booting the system |\n",
    "|**/var**| Variable data. This directory contains files that change often, such as logs, spool files, and temporary e-mail files.|\n",
    "|**/cdrom**| Mount point for CD-ROMs|\n",
    "|**/dev**| Device files for all hardware devices on the machine. For example, /dev/sda is the first hard drive, /dev/sda1 is the first partition on the first hard drive, and so on. |\n",
    "|**/lib**| Libraries for the binaries in /bin and /sbin.|\n",
    "|**/lib32**| Libraries for the binaries in /bin and /sbin for 32-bit systems.|\n",
    "|**/lib64**| Libraries for the binaries in /bin and /sbin for 64-bit systems.|\n",
    "|**/libx32**| Same functionality as /lib32 |\n",
    "|**/lost+found**| Files that were recovered after a system crash.|\n",
    "|**/media**| Mount point for removable media such as USB sticks or DVDs.|\n",
    "|**/mnt**| Mount point for temporarily mounted filesystems.|\n",
    "|**/opt**| Optional software packages.|\n",
    "|**/proc**| Virtual filesystem that contains information about processes and the system.|\n",
    "|**/root**| Home directory for the root user.|\n",
    "|**/run**| Runtime data for processes started since the last boot.|\n",
    "|**/sbin**| System binaries. These are executables that are generally reserved for the root user for system administration.|\n",
    "|**/snap**| Snap packages. Software delivered via snap are self-contained and can be installed without affecting the rest of the system. They are usually ported from other Linux distributions, or Windows and Mac.|\n",
    "|**/srv**| Data for services provided by the system.|\n",
    "|**/sys**| Virtual filesystem that contains information about hardware devices and drivers.|"
   ]
  },
  {
   "cell_type": "markdown",
   "metadata": {},
   "source": [
    "\n",
    "# Linux file system commands"
   ]
  },
  {
   "cell_type": "code",
   "execution_count": null,
   "metadata": {
    "vscode": {
     "languageId": "shellscript"
    }
   },
   "outputs": [
    {
     "name": "stdout",
     "output_type": "stream",
     "text": [
      "Hello World\n"
     ]
    }
   ],
   "source": [
    "# This is a comment, that is ignored by the computer.\n",
    "# But comments are useful for humans to understand what is going on.\n",
    "\n",
    "# Let's print a message to the screen.\n",
    "echo Hello World"
   ]
  },
  {
   "cell_type": "code",
   "execution_count": null,
   "metadata": {
    "vscode": {
     "languageId": "shellscript"
    }
   },
   "outputs": [
    {
     "name": "stdout",
     "output_type": "stream",
     "text": [
      "bin\n",
      "boot\n",
      "cdrom\n",
      "data\n",
      "dev\n",
      "etc\n",
      "home\n",
      "lib\n",
      "lib32\n",
      "lib64\n",
      "libx32\n",
      "lost+found\n",
      "media\n",
      "mnt\n",
      "opt\n",
      "proc\n",
      "root\n",
      "run\n",
      "sbin\n",
      "snap\n",
      "srv\n",
      "sys\n",
      "tmp\n",
      "usr\n",
      "var\n"
     ]
    }
   ],
   "source": [
    "# view root file system\n",
    "ls -1 /"
   ]
  },
  {
   "cell_type": "markdown",
   "metadata": {},
   "source": [
    "# Common usage patterns for Linux Users\n",
    "\n",
    "1. Navigating the file system\n",
    "2. Creating, copying, moving, and deleting files and directories\n",
    "3. Viewing and editing files\n",
    "4. Searching for files\n",
    "5. Getting help\n",
    "6. Managing processes\n",
    "7. Managing users and groups\n",
    "8. Managing permissions\n",
    "9. Managing software packages\n",
    "10. Managing services\n",
    "11. Managing storage\n",
    "12. Managing system logs\n",
    "13. Managing the network\n",
    "14. Managing the firewall\n",
    "15. Managing the kernel\n",
    "16. Managing the boot process\n",
    "17. Managing the system clock\n",
    "18. Managing the system\n",
    "19. Managing the hardware\n",
    "20. Managing the system"
   ]
  },
  {
   "cell_type": "markdown",
   "metadata": {},
   "source": []
  },
  {
   "cell_type": "markdown",
   "metadata": {},
   "source": [
    " ## 1. Navigating the file system\n",
    "\n",
    " 0. `man` - read manual pages of commands installed on the system\n",
    " 1. `pwd` - print working directory\n",
    " 2. `cd` - change directory\n",
    " 3. `ls` - list directory contents\n",
    " 4. `tree` - list contents of directories in a tree-like format\n",
    " 5. `mkdir` - make directories\n",
    " 6. `rmdir` - remove empty directories\n",
    " 7. `rm` - remove files and directories\n",
    " 8. `cp` - copy files and directories\n",
    " 9. `mv` - move/rename files and directories\n",
    " 10. `touch` - create empty files\n",
    " 11. `cat` - concatenate files and print on the standard output\n",
    " 12. `less` - read file with pagination\n",
    " 13. `more` - read text files with pagination, keeps the text in the terminal after exiting. \n",
    " 14. `head` - output the first part of files\n",
    " 15. `tail` - output the last part of files\n",
    " 16. `grep` - print lines matching a pattern. More advanced alternatives which are faster and more user friendly output: `ack` (belonging to \"ack\" package), `rg` (belonging to \"ripgrep\" package)\n",
    " 17. `find` - search for files in a directory hierarchy\n",
    " 18. `locate` - find files by name\n",
    " 19. `which` - locate a command\n",
    " 20. `whereis` - locate the binary, source, and manual page files for a command\n"
   ]
  },
  {
   "cell_type": "code",
   "execution_count": null,
   "metadata": {
    "vscode": {
     "languageId": "shellscript"
    }
   },
   "outputs": [],
   "source": [
    "## 0. `man` read manual pages\n",
    "man man"
   ]
  },
  {
   "cell_type": "code",
   "execution_count": null,
   "metadata": {
    "vscode": {
     "languageId": "shellscript"
    }
   },
   "outputs": [],
   "source": [
    "## 1. `pdw` - print working directory\n",
    "pwd"
   ]
  },
  {
   "cell_type": "code",
   "execution_count": null,
   "metadata": {
    "vscode": {
     "languageId": "shellscript"
    }
   },
   "outputs": [],
   "source": [
    "## 2. `ls` - list directory contents\n",
    "man ls"
   ]
  },
  {
   "cell_type": "markdown",
   "metadata": {},
   "source": [
    "# More advanced topics\n",
    "\n",
    "1. setuid, setgid, and the Sticky Bit\n",
    "2. File system quotas\n",
    "3. File system permissions\n",
    "4. File system attributes\n",
    "5. File system journaling\n",
    "6. File system encryption\n",
    "7. File system compression\n",
    "8. File system snapshots\n",
    "9. File system backups\n",
    "10. File system recovery\n",
    "11. File system integrity\n",
    "12. File system monitoring\n",
    "13. File system tuning\n",
    "14. File system benchmarking\n",
    "15. File system virtualization\n"
   ]
  },
  {
   "cell_type": "markdown",
   "metadata": {},
   "source": []
  }
 ],
 "metadata": {
  "kernelspec": {
   "display_name": "Bash",
   "language": "bash",
   "name": "bash"
  },
  "language_info": {
   "codemirror_mode": "shell",
   "file_extension": ".sh",
   "mimetype": "text/x-sh",
   "name": "bash"
  }
 },
 "nbformat": 4,
 "nbformat_minor": 2
}
