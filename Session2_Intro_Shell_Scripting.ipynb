{
 "cells": [
  {
   "cell_type": "markdown",
   "metadata": {},
   "source": [
    "\n",
    "\n",
    "# Introduction to Shell Scripting\n",
    "\n",
    "## Section 1: Shell Scripting - Variables, Arrays, and Expressions\n",
    "\n",
    "1. **Introduction to Variables in Bash**\n",
    "   - Explanation and examples of declaring and using variables.\n",
    "   - Interactive cells where students can declare their own variables and print them.\n",
    "\n",
    "2. **Introduction to Bash Functions**\n",
    "   - Explanation and examples of declaring and using functions.\n",
    "   - Interactive cells where students can declare their own functions and call them.\n",
    "\n",
    "3. **Arrays in Bash**\n",
    "   - Demonstrating how to create and access arrays.\n",
    "   - Interactive examples for students to modify and access array elements.\n",
    "\n",
    "4. **Basic Expressions and Operations**\n",
    "   - Arithmetic operations and string manipulations.\n",
    "   - Hands-on cells for students to try out expressions.\n",
    "\n",
    "## Section 2: Flow Control and Repetition\n",
    "\n",
    "1. **Conditional Statements**\n",
    "   - Explanation of `if-else` and `case` statements with examples.\n",
    "   - Interactive cells for students to write their own conditional statements.\n",
    "\n",
    "2. **Loops in Bash**\n",
    "   - Demonstrating `for`, `while`, and `until` loops with practical examples.\n",
    "   - Exercises for students to write loops for specific tasks.\n",
    "\n",
    "## Hands-On Exercise\n",
    "\n",
    "- A set of exercises that combine variables, arrays, conditional statements, and loops.\n",
    "- Example: A script that reads data from a file, processes it based on certain conditions, and outputs results.\n",
    "\n",
    "## Assignment: Basic Bioinformatics Workflow\n",
    "\n",
    "- Task: Write a Bash script for basic file manipulations in bioinformatics.\n",
    "- Example assignment: A script that filters a dataset based on certain criteria, counts the number of occurrences of specific patterns, or reformat data files.\n",
    "\n"
   ]
  },
  {
   "cell_type": "markdown",
   "metadata": {},
   "source": [
    "## 1. **Introduction to Variables in Bash**\n",
    "   - Explanation and examples of declaring and using variables.\n",
    "   - Interactive cells where students can declare their own variables and print them."
   ]
  },
  {
   "cell_type": "markdown",
   "metadata": {},
   "source": [
    "## Variable naming conventions\n",
    "\n",
    "1. - Variable names can contain letters, numbers, and underscores.\n",
    "2. - Variable names must start with a letter or an underscore.\n",
    "3. - Variable names are case-sensitive.\n",
    "4. - Variable names should be descriptive, without being too long.\n",
    "5. - Variable names should not contain spaces.\n",
    "6. - Variable names should not start with numbers.\n",
    "\n",
    "## Global vs. Local Variables\n",
    "- Global variables are available throughout the script, while local variables are only available within a function.\n",
    "- Global variables can be accessed within a function, but local variables cannot be accessed outside the function.\n",
    "- Global variables are usually declared at the beginning of the script, while local variables are declared within functions.\n",
    "- Global variables are usually declared in uppercase, while local variables are usually declared in lowercase.\n",
    "\n",
    "\n"
   ]
  },
  {
   "cell_type": "code",
   "execution_count": 4,
   "metadata": {
    "vscode": {
     "languageId": "shellscript"
    }
   },
   "outputs": [
    {
     "name": "stdout",
     "output_type": "stream",
     "text": [
      "#Concatenating variables\n",
      "Hello World 10\n",
      "#Concatenating variables with strings\n",
      "Hello World I am a new string\n",
      "Make new variable from existing variables\n",
      "Hello World10\n"
     ]
    }
   ],
   "source": [
    "# Declaring a variable\n",
    "\n",
    "my_var=\"Hello World\"\n",
    "new_var=10\n",
    "\n",
    "# Escaping characters with backslash\n",
    "\n",
    "echo \\#Concatenating variables\n",
    "echo $my_var $new_var\n",
    "\n",
    "echo \\#Concatenating variables with strings\n",
    "echo $my_var \"I am a new string\"\n",
    "\n",
    "echo Make new variable from existing variables\n",
    "new_var2=$my_var$new_var\n",
    "echo $new_var2\n",
    "\n"
   ]
  },
  {
   "cell_type": "code",
   "execution_count": 7,
   "metadata": {
    "vscode": {
     "languageId": "shellscript"
    }
   },
   "outputs": [
    {
     "name": "stdout",
     "output_type": "stream",
     "text": [
      "# Using curly with variables\n"
     ]
    },
    {
     "name": "stdout",
     "output_type": "stream",
     "text": [
      "Hello World2\n",
      "# Alternative way to curly braces\n",
      "Hello World2\n",
      "# Problems when not using curly braces\n",
      "\n"
     ]
    }
   ],
   "source": [
    "echo \\# Using curly with variables\n",
    "\n",
    "echo ${my_var}2\n",
    "\n",
    "echo \\# Alternative way to curly braces\n",
    "echo \"$my_var\"2\n",
    "\n",
    "echo \\# Problems when not using curly braces\n",
    "echo $my_var2\n"
   ]
  },
  {
   "cell_type": "markdown",
   "metadata": {},
   "source": [
    "## Common Environment Variables\n",
    "\n",
    "The following environment variables are commonly used in Bash scripts. They are usually declared in uppercase by the OS or Bash itself. However, they can be modified by the user.\n",
    "\n",
    "- `HOME`: The home directory of the current user.\n",
    "- `PATH`: A list of directories where the shell looks for commands.\n",
    "- `PWD`: The current working directory.\n",
    "- `SHELL`: The path to the current shell.\n",
    "- `USER`: The username of the current user.\n",
    "- `HOSTNAME`: The hostname of the current machine.\n",
    "- `TERM`: The terminal type.\n",
    "- `EDITOR`: The default text editor.\n",
    "- `LANG`: The default language.\n",
    "- `MAIL`: The location of the mailbox.\n",
    "- `PS1`: The primary prompt string.\n",
    "- `PS2`: The secondary prompt string.\n",
    "- `HISTSIZE`: The number of commands to remember in the command history.\n",
    "- `HISTFILESIZE`: The maximum number of lines contained in the history file.\n",
    "- `HISTCONTROL`: Determines what commands are saved in the history list.\n",
    "- `HISTIGNORE`: A list of patterns to ignore when saving the history list.\n",
    "- `HISTTIMEFORMAT`: The format for the date/time stamp associated with each history entry.\n",
    "- `HISTFILE`: The name of the file in which command history is saved.\n",
    "- `HISTFILESIZE`: The maximum number of lines contained in the history file.\n",
    "- `HISTSIZE`: The number of commands to remember in the command history.\n",
    "\n",
    "\n"
   ]
  },
  {
   "cell_type": "code",
   "execution_count": null,
   "metadata": {
    "vscode": {
     "languageId": "shellscript"
    }
   },
   "outputs": [],
   "source": [
    "echo \\# Print environment variables\n",
    "echo $PATH"
   ]
  },
  {
   "cell_type": "code",
   "execution_count": null,
   "metadata": {
    "vscode": {
     "languageId": "shellscript"
    }
   },
   "outputs": [],
   "source": [
    "\n",
    "echo \\# Print all environment variables currently set\n",
    "printenv\n"
   ]
  },
  {
   "cell_type": "markdown",
   "metadata": {},
   "source": [
    "## Variable Expansion\n",
    "\n",
    "This is very useful technique for manipulating variables in Bash. It allows you to perform operations on variables, such as extracting substrings, replacing patterns, and performing arithmetic operations.\n",
    "\n",
    "- `${var}`: The value of the variable `var`.\n",
    "- `${var:-word}`: If `var` is unset or null, the expansion of `word` is substituted. Otherwise, the value of `var` is substituted.\n",
    "- `${var:=word}`: If `var` is unset or null, the expansion of `word` is assigned to `var`. The value of `var` is then substituted. Positional parameters and special parameters may not be assigned to in this way.\n",
    "- `${var:?message}`: If `var` is null or unset, the expansion of `message` is written to the standard error and the shell, if it is not interactive, exits. Otherwise, the value of `var` is substituted.\n",
    "- `${var:+word}`: If `var` is null or unset, nothing is substituted. Otherwise, the expansion of `word` is substituted.\n"
   ]
  },
  {
   "cell_type": "markdown",
   "metadata": {},
   "source": [
    "\n",
    "## Examples of Variable Expansion\n"
   ]
  },
  {
   "cell_type": "code",
   "execution_count": 21,
   "metadata": {
    "vscode": {
     "languageId": "shellscript"
    }
   },
   "outputs": [
    {
     "name": "stdout",
     "output_type": "stream",
     "text": [
      "# Declare a variable\n"
     ]
    }
   ],
   "source": [
    "echo \\# Declare a variable\n",
    "var=\"Hello World\"\n"
   ]
  },
  {
   "cell_type": "code",
   "execution_count": 22,
   "metadata": {
    "vscode": {
     "languageId": "shellscript"
    }
   },
   "outputs": [
    {
     "name": "stdout",
     "output_type": "stream",
     "text": [
      "# Print the value of the variable\n",
      "Hello World\n",
      "# Print the length of the variable\n",
      "11\n",
      "# Print the substring starting at position 2\n",
      "llo World\n"
     ]
    }
   ],
   "source": [
    "\n",
    "echo \\# Print the value of the variable\n",
    "echo $var\n",
    "\n",
    "echo \\# Print the length of the variable\n",
    "echo ${#var}\n",
    "\n",
    "echo \\# Print the substring starting at position 2\n",
    "echo ${var:2}\n"
   ]
  },
  {
   "cell_type": "code",
   "execution_count": 23,
   "metadata": {
    "vscode": {
     "languageId": "shellscript"
    }
   },
   "outputs": [
    {
     "name": "stdout",
     "output_type": "stream",
     "text": [
      "# Print the substring starting at position 2 and ending at position 7\n",
      "llo Wor\n"
     ]
    }
   ],
   "source": [
    "echo \\# Print the substring starting at position 2 and ending at position 7\n",
    "echo ${var:2:7}\n"
   ]
  },
  {
   "cell_type": "code",
   "execution_count": 27,
   "metadata": {
    "vscode": {
     "languageId": "shellscript"
    }
   },
   "outputs": [
    {
     "name": "stdout",
     "output_type": "stream",
     "text": [
      "# Replace the first occurrence of a pattern\n"
     ]
    },
    {
     "name": "stdout",
     "output_type": "stream",
     "text": [
      "Goodbye World\n",
      "# Replace all occurrences of a pattern\n",
      "HeLLo World\n"
     ]
    }
   ],
   "source": [
    "echo \\# Replace the first occurrence of a pattern\n",
    "echo ${var/Hello/Goodbye}\n",
    "\n",
    "echo \\# Replace all occurrences of a pattern\n",
    "echo ${var//ll/LL}\n"
   ]
  },
  {
   "cell_type": "code",
   "execution_count": 15,
   "metadata": {
    "vscode": {
     "languageId": "shellscript"
    }
   },
   "outputs": [
    {
     "name": "stdout",
     "output_type": "stream",
     "text": [
      "# Variable expansion with curly braces\n"
     ]
    },
    {
     "name": "stdout",
     "output_type": "stream",
     "text": [
      "Goodbye World\n",
      "# Variable expansion with multiple replacements\n",
      "HeLLo WorLd\n"
     ]
    }
   ],
   "source": [
    "echo ${my_var/Hello/Goodbye}\n",
    "\n",
    "echo \\# Variable expansion with multiple replacements\n",
    "\n",
    "echo ${my_var//l/L}"
   ]
  },
  {
   "cell_type": "code",
   "execution_count": 25,
   "metadata": {
    "vscode": {
     "languageId": "shellscript"
    }
   },
   "outputs": [
    {
     "name": "stdout",
     "output_type": "stream",
     "text": [
      "username/Documents/Scripts\n",
      "Scripts\n"
     ]
    }
   ],
   "source": [
    "my_path=\"/home/username/Documents/Scripts\"\n",
    "\n",
    "echo ${my_path#/*/}\n",
    "echo ${my_path##/*/}"
   ]
  },
  {
   "cell_type": "markdown",
   "metadata": {},
   "source": [
    "## Introduction to bash functions\n",
    "\n",
    "- Functions are a way to group commands for later execution using a single name for the group.\n",
    "- Functions are declared using the following syntax:\n",
    "\n",
    "```bash\n",
    "function_name () {\n",
    "    commands\n",
    "}\n",
    "```\n",
    "\n",
    "- To call a function, simply write its name followed by any parameters (if any) and parentheses.\n",
    "- Functions can be called anywhere in the script, even before they are declared.\n",
    "- Functions can be declared in the global scope or inside other functions.\n",
    "\n"
   ]
  },
  {
   "cell_type": "code",
   "execution_count": 28,
   "metadata": {
    "vscode": {
     "languageId": "shellscript"
    }
   },
   "outputs": [],
   "source": [
    "\n",
    "# Global variable of commonly used colors\n",
    "red=31\n",
    "green=32\n",
    "yellow=33\n",
    "blue=34\n",
    "purple=35\n",
    "cyan=36\n",
    "white=37\n",
    "\n",
    "\n",
    "\n",
    "# Wrapper function for echo command with color\n",
    "function info() {\n",
    "    # $1 is the first argument passed to the function\n",
    "    # $2 is the second argument passed to the function\n",
    "    echo -e \"\\033[1;${1}m${2}\\033[0m\"\n",
    "}\n"
   ]
  },
  {
   "cell_type": "code",
   "execution_count": 30,
   "metadata": {
    "vscode": {
     "languageId": "shellscript"
    }
   },
   "outputs": [
    {
     "name": "stdout",
     "output_type": "stream",
     "text": [
      "\u001b[1;31mHello World\u001b[0m\n",
      "\u001b[1;32mHello World\u001b[0m\n"
     ]
    }
   ],
   "source": [
    "\n",
    "# Example usage\n",
    "info $red \"Hello World\"\n",
    "info $green \"Hello World\"\n",
    "\n"
   ]
  },
  {
   "cell_type": "markdown",
   "metadata": {},
   "source": [
    "## Special variables in bash functions\n",
    "\n",
    "- `$0`: The name of the script.\n",
    "- `$1`: The first argument passed to the function.\n",
    "- `$2`: The second argument passed to the function.\n",
    "- `$3`: The third argument passed to the function. And so on.\n",
    "- `$@`: All arguments passed to the function.\n",
    "- `$#`: The number of arguments passed to the function.\n",
    "- `$?`: The exit status of the last command executed in the function.\n",
    "- `$$`: The process ID of the current shell.\n",
    "- `$!`: The process ID of the last background command executed in the function.\n",
    "- `$*`: All arguments passed to the function.\n",
    "- `$-`: The current options supplied to the shell.\n",
    "- `$?`: The exit status of the last command executed in the function.\n"
   ]
  },
  {
   "cell_type": "markdown",
   "metadata": {},
   "source": [
    "### Excercise 1: \n",
    "\n",
    "Write a function that takes two numbers as arguments and returns their sum.\n"
   ]
  },
  {
   "cell_type": "markdown",
   "metadata": {},
   "source": [
    "## 2. Arrays in Bash\n",
    "\n",
    "- Arrays are a way to store multiple values in a single variable.\n",
    "- Arrays are declared using the following syntax:\n",
    "\n",
    "```bash \n",
    "array_name=(value1 value2 ... valueN)\n",
    "```\n",
    "\n",
    "- To access an element in an array, use the following syntax:\n",
    "\n",
    "```bash\n",
    "${array_name[index]}\n",
    "```\n",
    "\n",
    "- To access all elements in an array, use the following syntax:\n",
    "\n",
    "```bash\n",
    "${array_name[@]}\n",
    "```\n",
    "\n",
    "- To get the length of an array, use the following syntax:\n",
    "\n",
    "```bash\n",
    "${#array_name[@]}\n",
    "```\n",
    "\n",
    "- To get the length of an element in an array, use the following syntax:\n",
    "\n",
    "```bash\n",
    "${#array_name[index]}\n",
    "```\n",
    "\n",
    "- To add an element to an array, use the following syntax:\n",
    "\n",
    "```bash\n",
    "array_name+=(value)\n",
    "```\n",
    "\n",
    "- To remove an element from an array, use the following syntax:\n",
    "\n",
    "```bash\n",
    "unset array_name[index]\n",
    "```\n",
    "\n",
    "- To remove all elements from an array, use the following syntax:\n",
    "\n",
    "```bash\n",
    "unset array_name[@]\n",
    "```\n",
    "\n",
    "- To remove an element from an array by value, use the following syntax:\n",
    "\n",
    "```bash\n",
    "array_name=(${array_name[@]/value})\n",
    "```\n",
    "\n",
    "- To remove an element from an array by index, use the following syntax:\n",
    "\n",
    "```bash\n",
    "array_name=(${array_name[@]:0:index} ${array_name[@]:index+1})\n",
    "```\n"
   ]
  },
  {
   "cell_type": "markdown",
   "metadata": {},
   "source": [
    "Commony use cases for arrays in bash scripts:\n",
    "\n",
    "- Storing the output of a command in an array.\n",
    "- Holding the arguments passed to a function.\n",
    "- Holding a list of filenames or directories.\n",
    "- Holding a list of strings to be used in a loop.\n",
    "- Holding a list of numbers to be used in a loop.\n",
    "\n"
   ]
  },
  {
   "cell_type": "code",
   "execution_count": null,
   "metadata": {
    "vscode": {
     "languageId": "shellscript"
    }
   },
   "outputs": [],
   "source": [
    "# Useful common examples of using arrays in bash\n",
    "\n",
    "# Declare an array\n",
    "my_array=(one two three four five)\n"
   ]
  },
  {
   "cell_type": "code",
   "execution_count": null,
   "metadata": {
    "vscode": {
     "languageId": "shellscript"
    }
   },
   "outputs": [],
   "source": []
  },
  {
   "cell_type": "code",
   "execution_count": null,
   "metadata": {
    "vscode": {
     "languageId": "shellscript"
    }
   },
   "outputs": [],
   "source": []
  }
 ],
 "metadata": {
  "kernelspec": {
   "display_name": "Bash",
   "language": "bash",
   "name": "bash"
  },
  "language_info": {
   "codemirror_mode": "shell",
   "file_extension": ".sh",
   "mimetype": "text/x-sh",
   "name": "bash"
  }
 },
 "nbformat": 4,
 "nbformat_minor": 2
}
