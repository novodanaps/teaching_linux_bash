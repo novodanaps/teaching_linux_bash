{
 "cells": [
  {
   "cell_type": "markdown",
   "metadata": {},
   "source": [
    "\n",
    "\n",
    "# Introduction to Shell Scripting\n",
    "\n",
    "## Section 1: Shell Scripting - Variables, Arrays, and Expressions\n",
    "\n",
    "1. **Introduction to Variables in Bash**\n",
    "   - Explanation and examples of declaring and using variables.\n",
    "   - Interactive cells where students can declare their own variables and print them.\n",
    "\n",
    "2. **Introduction to Bash Functions**\n",
    "   - Explanation and examples of declaring and using functions.\n",
    "   - Interactive cells where students can declare their own functions and call them.\n",
    "\n",
    "3. **Arrays in Bash**\n",
    "   - Demonstrating how to create and access arrays.\n",
    "   - Interactive examples for students to modify and access array elements.\n",
    "\n",
    "4. **Basic Expressions and Operations**\n",
    "   - Arithmetic operations and string manipulations.\n",
    "   - Hands-on cells for students to try out expressions.\n",
    "\n",
    "## Section 2: Flow Control and Repetition\n",
    "\n",
    "1. **Conditional Statements**\n",
    "   - Explanation of `if-else` and `case` statements with examples.\n",
    "   - Interactive cells for students to write their own conditional statements.\n",
    "\n",
    "2. **Loops in Bash**\n",
    "   - Demonstrating `for`, `while`, and `until` loops with practical examples.\n",
    "   - Exercises for students to write loops for specific tasks.\n",
    "\n",
    "## Hands-On Exercise\n",
    "\n",
    "- A set of exercises that combine variables, arrays, conditional statements, and loops.\n",
    "- Example: A script that reads data from a file, processes it based on certain conditions, and outputs results.\n",
    "\n",
    "## Assignment: Basic Bioinformatics Workflow\n",
    "\n",
    "- Task: Write a Bash script for basic file manipulations in bioinformatics.\n",
    "- Example assignment: A script that filters a dataset based on certain criteria, counts the number of occurrences of specific patterns, or reformat data files.\n",
    "\n"
   ]
  },
  {
   "cell_type": "markdown",
   "metadata": {},
   "source": [
    "# Section 1: Shell Scripting - Variables, Arrays, and Expressions\n",
    "\n",
    "1. **Introduction to Variables in Bash**\n",
    "   - Explanation and examples of declaring and using variables.\n",
    "   - Interactive cells where students can declare their own variables and print them.\n",
    "\n",
    "2. **Introduction to Bash Functions**\n",
    "   - Explanation and examples of declaring and using functions.\n",
    "   - Interactive cells where students can declare their own functions and call them.\n",
    "\n",
    "3. **Arrays in Bash**\n",
    "   - Demonstrating how to create and access arrays.\n",
    "   - Interactive examples for students to modify and access array elements.\n",
    "\n",
    "4. **Basic Expressions and Operations**\n",
    "   - Arithmetic operations and string manipulations.\n",
    "   - Hands-on cells for students to try out expressions.\n",
    "\n",
    "## 1. **Introduction to Variables in Bash**\n",
    "   - Explanation and examples of declaring and using variables.\n",
    "   - Interactive cells where students can declare their own variables and print them."
   ]
  },
  {
   "cell_type": "markdown",
   "metadata": {},
   "source": [
    "## Variable naming conventions\n",
    "\n",
    "1. - Variable names can contain letters, numbers, and underscores.\n",
    "2. - Variable names must start with a letter or an underscore.\n",
    "3. - Variable names are case-sensitive.\n",
    "4. - Variable names should be descriptive, without being too long.\n",
    "5. - Variable names should not contain spaces.\n",
    "6. - Variable names should not start with numbers.\n",
    "\n",
    "## Global vs. Local Variables\n",
    "- Global variables are available throughout the script, while local variables are only available within a function.\n",
    "- Global variables can be accessed within a function, but local variables cannot be accessed outside the function.\n",
    "- Global variables are usually declared at the beginning of the script, while local variables are declared within functions.\n",
    "- Global variables are usually declared in uppercase, while local variables are usually declared in lowercase.\n",
    "\n",
    "\n"
   ]
  },
  {
   "cell_type": "code",
   "execution_count": 1,
   "metadata": {
    "vscode": {
     "languageId": "shellscript"
    }
   },
   "outputs": [
    {
     "name": "stdout",
     "output_type": "stream",
     "text": [
      "#Concatenating variables\n",
      "Hello World 10\n"
     ]
    },
    {
     "name": "stdout",
     "output_type": "stream",
     "text": [
      "#Concatenating variables with strings\n",
      "Hello World I am a new string\n",
      "Make new variable from existing variables\n",
      "Hello World10\n"
     ]
    }
   ],
   "source": [
    "# Declaring a variable\n",
    "\n",
    "my_var=\"Hello World\"\n",
    "new_var=10\n",
    "\n",
    "# Escaping characters with backslash\n",
    "\n",
    "echo \\#Concatenating variables\n",
    "echo $my_var $new_var\n",
    "\n",
    "echo \\#Concatenating variables with strings\n",
    "echo $my_var \"I am a new string\"\n",
    "\n",
    "echo Make new variable from existing variables\n",
    "new_var2=$my_var$new_var\n",
    "echo $new_var2\n",
    "\n"
   ]
  },
  {
   "cell_type": "code",
   "execution_count": 2,
   "metadata": {
    "vscode": {
     "languageId": "shellscript"
    }
   },
   "outputs": [
    {
     "name": "stdout",
     "output_type": "stream",
     "text": [
      "# Using curly with variables\n",
      "Hello World2\n"
     ]
    },
    {
     "name": "stdout",
     "output_type": "stream",
     "text": [
      "# Alternative way to curly braces\n",
      "Hello World2\n",
      "# Problems when not using curly braces\n",
      "\n"
     ]
    }
   ],
   "source": [
    "echo \\# Using curly with variables\n",
    "\n",
    "echo ${my_var}2\n",
    "\n",
    "echo \\# Alternative way to curly braces\n",
    "echo \"$my_var\"2\n",
    "\n",
    "echo \\# Problems when not using curly braces\n",
    "echo $my_var2\n"
   ]
  },
  {
   "cell_type": "markdown",
   "metadata": {},
   "source": [
    "## Common Environment Variables\n",
    "\n",
    "The following environment variables are commonly used in Bash scripts. They are usually declared in uppercase by the OS or Bash itself. However, they can be modified by the user.\n",
    "\n",
    "- `HOME`: The home directory of the current user.\n",
    "- `PATH`: A list of directories where the shell looks for commands.\n",
    "- `PWD`: The current working directory.\n",
    "- `SHELL`: The path to the current shell.\n",
    "- `USER`: The username of the current user.\n",
    "- `HOSTNAME`: The hostname of the current machine.\n",
    "- `TERM`: The terminal type.\n",
    "- `EDITOR`: The default text editor.\n",
    "- `LANG`: The default language.\n",
    "- `MAIL`: The location of the mailbox.\n",
    "- `PS1`: The primary prompt string.\n",
    "- `PS2`: The secondary prompt string.\n",
    "- `HISTSIZE`: The number of commands to remember in the command history.\n",
    "- `HISTFILESIZE`: The maximum number of lines contained in the history file.\n",
    "- `HISTCONTROL`: Determines what commands are saved in the history list.\n",
    "- `HISTIGNORE`: A list of patterns to ignore when saving the history list.\n",
    "- `HISTTIMEFORMAT`: The format for the date/time stamp associated with each history entry.\n",
    "- `HISTFILE`: The name of the file in which command history is saved.\n",
    "- `HISTFILESIZE`: The maximum number of lines contained in the history file.\n",
    "- `HISTSIZE`: The number of commands to remember in the command history.\n",
    "\n",
    "\n"
   ]
  },
  {
   "cell_type": "code",
   "execution_count": null,
   "metadata": {
    "vscode": {
     "languageId": "shellscript"
    }
   },
   "outputs": [],
   "source": [
    "echo \\# Print environment variables\n",
    "echo $PATH"
   ]
  },
  {
   "cell_type": "code",
   "execution_count": null,
   "metadata": {
    "vscode": {
     "languageId": "shellscript"
    }
   },
   "outputs": [],
   "source": [
    "\n",
    "echo \\# Print all environment variables currently set\n",
    "printenv\n"
   ]
  },
  {
   "cell_type": "markdown",
   "metadata": {},
   "source": [
    "## Variable Expansion\n",
    "\n",
    "This is very useful technique for manipulating variables in Bash. It allows you to perform operations on variables, such as extracting substrings, replacing patterns, and performing arithmetic operations.\n",
    "\n",
    "- `${var}`: The value of the variable `var`.\n",
    "- `${var:-word}`: If `var` is unset or null, the expansion of `word` is substituted. Otherwise, the value of `var` is substituted.\n",
    "- `${var:=word}`: If `var` is unset or null, the expansion of `word` is assigned to `var`. The value of `var` is then substituted. Positional parameters and special parameters may not be assigned to in this way.\n",
    "- `${var:?message}`: If `var` is null or unset, the expansion of `message` is written to the standard error and the shell, if it is not interactive, exits. Otherwise, the value of `var` is substituted.\n",
    "- `${var:+word}`: If `var` is null or unset, nothing is substituted. Otherwise, the expansion of `word` is substituted.\n"
   ]
  },
  {
   "cell_type": "markdown",
   "metadata": {},
   "source": [
    "\n",
    "## Examples of Variable Expansion\n"
   ]
  },
  {
   "cell_type": "code",
   "execution_count": 5,
   "metadata": {
    "vscode": {
     "languageId": "shellscript"
    }
   },
   "outputs": [
    {
     "name": "stdout",
     "output_type": "stream",
     "text": [
      "# Declare a variable\n"
     ]
    }
   ],
   "source": [
    "echo \\# Declare a variable\n",
    "var=\"Hello World\"\n"
   ]
  },
  {
   "cell_type": "code",
   "execution_count": 6,
   "metadata": {
    "vscode": {
     "languageId": "shellscript"
    }
   },
   "outputs": [
    {
     "name": "stdout",
     "output_type": "stream",
     "text": [
      "# Print the value of the variable\n",
      "Hello World\n"
     ]
    },
    {
     "name": "stdout",
     "output_type": "stream",
     "text": [
      "# Print the length of the variable\n",
      "11\n",
      "# Print the substring starting at position 2\n",
      "llo World\n"
     ]
    }
   ],
   "source": [
    "\n",
    "echo \\# Print the value of the variable\n",
    "echo $var\n",
    "\n",
    "echo \\# Print the length of the variable\n",
    "echo ${#var}\n",
    "\n",
    "echo \\# Print the substring starting at position 2\n",
    "echo ${var:2}\n"
   ]
  },
  {
   "cell_type": "code",
   "execution_count": 7,
   "metadata": {
    "vscode": {
     "languageId": "shellscript"
    }
   },
   "outputs": [
    {
     "name": "stdout",
     "output_type": "stream",
     "text": [
      "# Print the substring starting at position 2 and ending at position 7\n",
      "llo Wor\n"
     ]
    }
   ],
   "source": [
    "echo \\# Print the substring starting at position 2 and ending at position 7\n",
    "echo ${var:2:7}\n"
   ]
  },
  {
   "cell_type": "code",
   "execution_count": 8,
   "metadata": {
    "vscode": {
     "languageId": "shellscript"
    }
   },
   "outputs": [
    {
     "name": "stdout",
     "output_type": "stream",
     "text": [
      "# Replace the first occurrence of a pattern\n",
      "Goodbye World\n"
     ]
    },
    {
     "name": "stdout",
     "output_type": "stream",
     "text": [
      "# Replace all occurrences of a pattern\n",
      "HeLLo WorLd\n"
     ]
    }
   ],
   "source": [
    "echo \\# Replace the first occurrence of a pattern\n",
    "echo ${var/Hello/Goodbye}\n",
    "\n",
    "echo \\# Replace all occurrences of a pattern\n",
    "echo ${var//l/L}\n"
   ]
  },
  {
   "cell_type": "code",
   "execution_count": 9,
   "metadata": {
    "vscode": {
     "languageId": "shellscript"
    }
   },
   "outputs": [
    {
     "name": "stdout",
     "output_type": "stream",
     "text": [
      "Goodbye World\n",
      "# Variable expansion with multiple replacements\n"
     ]
    },
    {
     "name": "stdout",
     "output_type": "stream",
     "text": [
      "HeLLo WorLd\n"
     ]
    }
   ],
   "source": [
    "echo ${my_var/Hello/Goodbye}\n",
    "\n",
    "echo \\# Variable expansion with multiple replacements\n",
    "\n",
    "echo ${my_var//l/L}"
   ]
  },
  {
   "cell_type": "markdown",
   "metadata": {},
   "source": [
    "## Introduction to bash functions\n",
    "\n",
    "- Functions are a way to group commands for later execution using a single name for the group.\n",
    "- Functions are declared using the following syntax:\n",
    "\n",
    "```bash\n",
    "function_name () {\n",
    "    commands\n",
    "}\n",
    "```\n",
    "\n",
    "- To call a function, simply write its name followed by any parameters (if any) and parentheses.\n",
    "- Functions can be called anywhere in the script, even before they are declared.\n",
    "- Functions can be declared in the global scope or inside other functions.\n",
    "\n"
   ]
  },
  {
   "cell_type": "code",
   "execution_count": 10,
   "metadata": {
    "vscode": {
     "languageId": "shellscript"
    }
   },
   "outputs": [
    {
     "name": "stdout",
     "output_type": "stream",
     "text": [
      "username/Documents/Scripts\n"
     ]
    },
    {
     "name": "stdout",
     "output_type": "stream",
     "text": [
      "Scripts\n"
     ]
    }
   ],
   "source": [
    "my_path=\"/home/username/Documents/Scripts\"\n",
    "\n",
    "echo ${my_path#/*/}\n",
    "echo ${my_path##/*/}"
   ]
  },
  {
   "cell_type": "code",
   "execution_count": 11,
   "metadata": {
    "vscode": {
     "languageId": "shellscript"
    }
   },
   "outputs": [
    {
     "name": "stdout",
     "output_type": "stream",
     "text": [
      "one /home/username\n",
      "two\n"
     ]
    }
   ],
   "source": [
    "my_path=\"/home/username/Documents/Scripts\"\n",
    "\n",
    "echo one ${my_path%/*/*s}\n",
    "echo two ${my_path%%/*/*s}"
   ]
  },
  {
   "cell_type": "code",
   "execution_count": 50,
   "metadata": {
    "vscode": {
     "languageId": "shellscript"
    }
   },
   "outputs": [],
   "source": [
    "\n",
    "# Global variable of commonly used colors\n",
    "red=31\n",
    "green=32\n",
    "yellow=33\n",
    "blue=34\n",
    "purple=35\n",
    "cyan=36\n",
    "white=37\n",
    "\n",
    "\n",
    "# Wrapper function for echo command with color\n",
    "function info() {\n",
    "    # $1 is the color code\n",
    "    # The rest of the arguments are the strings to print\n",
    "    color=$1\n",
    "    shift\n",
    "    echo -e \"\\e[1;${color}m$@\\e[0m\"\n",
    "}\n"
   ]
  },
  {
   "cell_type": "code",
   "execution_count": 13,
   "metadata": {
    "vscode": {
     "languageId": "shellscript"
    }
   },
   "outputs": [
    {
     "name": "stdout",
     "output_type": "stream",
     "text": [
      "\u001b[1;31mHello World\u001b[0m\n"
     ]
    },
    {
     "name": "stdout",
     "output_type": "stream",
     "text": [
      "\u001b[1;35mHello World\u001b[0m\n",
      "$0: /usr/bin/bash\n"
     ]
    }
   ],
   "source": [
    "\n",
    "# Example usage\n",
    "info $red \"Hello World\"\n",
    "info $purple \"Hello World\"\n",
    "\n",
    "echo \\$0: $0"
   ]
  },
  {
   "cell_type": "markdown",
   "metadata": {},
   "source": [
    "## Special variables in bash functions\n",
    "\n",
    "- `$0`: The name of the script.\n",
    "- `$1`: The first argument passed to the function.\n",
    "- `$2`: The second argument passed to the function.\n",
    "- `$3`: The third argument passed to the function. And so on.\n",
    "- `$@`: All arguments passed to the function.\n",
    "- `$#`: The number of arguments passed to the function.\n",
    "- `$?`: The exit status of the last command executed in the function.\n",
    "- `$$`: The process ID of the current shell.\n",
    "- `$!`: The process ID of the last background command executed in the function.\n",
    "- `$*`: All arguments passed to the function.\n",
    "- `$-`: The current options supplied to the shell.\n",
    "- `$?`: The exit status of the last command executed in the function.\n"
   ]
  },
  {
   "cell_type": "markdown",
   "metadata": {},
   "source": [
    "### Excercise 1: \n",
    "\n",
    "Write a function that takes two numbers as arguments and returns their sum.\n"
   ]
  },
  {
   "cell_type": "markdown",
   "metadata": {},
   "source": [
    "## 2. Arrays in Bash\n",
    "\n",
    "- Arrays are a way to store multiple values in a single variable.\n",
    "- Arrays are declared using the following syntax:\n",
    "\n",
    "```bash \n",
    "array_name=(value1 value2 ... valueN)\n",
    "```\n",
    "\n",
    "- To access an element in an array, use the following syntax:\n",
    "\n",
    "```bash\n",
    "${array_name[index]}\n",
    "```\n",
    "\n",
    "- To access all elements in an array, use the following syntax:\n",
    "\n",
    "```bash\n",
    "${array_name[@]}\n",
    "```\n",
    "\n",
    "- To get the length of an array, use the following syntax:\n",
    "\n",
    "```bash\n",
    "${#array_name[@]}\n",
    "```\n",
    "\n",
    "- To get the length of an element in an array, use the following syntax:\n",
    "\n",
    "```bash\n",
    "${#array_name[index]}\n",
    "```\n",
    "\n",
    "- To add an element to an array, use the following syntax:\n",
    "\n",
    "```bash\n",
    "array_name+=(value)\n",
    "```\n",
    "\n",
    "- To remove an element from an array, use the following syntax:\n",
    "\n",
    "```bash\n",
    "unset array_name[index]\n",
    "```\n",
    "\n",
    "- To remove all elements from an array, use the following syntax:\n",
    "\n",
    "```bash\n",
    "unset array_name[@]\n",
    "```\n",
    "\n",
    "- To remove an element from an array by value, use the following syntax:\n",
    "\n",
    "```bash\n",
    "array_name=(${array_name[@]/value})\n",
    "```\n",
    "\n",
    "- To remove an element from an array by index, use the following syntax:\n",
    "\n",
    "```bash\n",
    "array_name=(${array_name[@]:0:index} ${array_name[@]:index+1})\n",
    "```\n"
   ]
  },
  {
   "cell_type": "markdown",
   "metadata": {},
   "source": [
    "Commony use cases for arrays in bash scripts:\n",
    "\n",
    "- Storing the output of a command in an array.\n",
    "- Holding the arguments passed to a function.\n",
    "- Holding a list of filenames or directories.\n",
    "- Holding a list of strings to be used in a loop.\n",
    "- Holding a list of numbers to be used in a loop.\n"
   ]
  },
  {
   "cell_type": "code",
   "execution_count": 14,
   "metadata": {
    "vscode": {
     "languageId": "shellscript"
    }
   },
   "outputs": [],
   "source": [
    "# Useful common examples of using arrays in bash\n",
    "\n",
    "# Declare an array\n",
    "my_array=(one two three four five)\n"
   ]
  },
  {
   "cell_type": "markdown",
   "metadata": {},
   "source": [
    "## Basic Math Expressions and Operations\n",
    "\n",
    "- Arithmetic operations can be performed using the following syntax:\n",
    "\n",
    "```bash\n",
    "$((expression))\n",
    "```\n",
    "\n",
    "- The following operators can be used in arithmetic expressions:\n",
    "\n",
    "| Operator | Description |\n",
    "|----------|-------------|\n",
    "| `+`      | Addition    |\n",
    "| `-`      | Subtraction |\n",
    "| `*`      | Multiplication |\n",
    "| `/`      | Division |\n",
    "| `%`      | Modulus |\n",
    "| `**`     | Exponentiation |\n",
    "| `++`     | Increment |\n",
    "| `--`     | Decrement |\n",
    "\n"
   ]
  },
  {
   "cell_type": "markdown",
   "metadata": {},
   "source": [
    "# Section 2: Flow Control and Repetition\n",
    "\n",
    "1. **Conditional Statements**\n",
    "   - Explanation of `if-else` and `case` statements with examples.\n",
    "   - Interactive cells for students to write their own conditional statements.\n",
    "\n",
    "2. **Loops in Bash**\n",
    "   - Demonstrating `for`, `while`, and `until` loops with practical examples.\n",
    "   - Exercises for students to write loops for specific tasks."
   ]
  },
  {
   "cell_type": "markdown",
   "metadata": {},
   "source": [
    "## Conditional Statements\n",
    "\n",
    "- Conditional statements are used to execute a certain block of code if a condition is true.\n",
    "- The following syntax is used to write conditional statements in Bash:\n",
    "\n",
    "```bash\n",
    "if condition\n",
    "then\n",
    "    commands\n",
    "fi\n",
    "```\n",
    "\n",
    "- The `if` statement can be followed by an optional `elif` statement and an optional `else` statement.\n",
    "- The `elif` statement is used to check another condition if the previous condition is false.\n",
    "- The `else` statement is used to execute a block of code if all previous conditions are false.\n",
    "- The `elif` and `else` statements must be preceded by an `if` statement.\n",
    "\n",
    "```bash\n",
    "if condition1\n",
    "then\n",
    "    commands\n",
    "elif condition2\n",
    "then\n",
    "    commands\n",
    "else\n",
    "    commands\n",
    "fi\n",
    "```\n"
   ]
  },
  {
   "cell_type": "code",
   "execution_count": 15,
   "metadata": {
    "vscode": {
     "languageId": "shellscript"
    }
   },
   "outputs": [
    {
     "name": "stdout",
     "output_type": "stream",
     "text": [
      "bash: [: too many arguments\n",
      "The condition is false\n"
     ]
    }
   ],
   "source": [
    "# Example of conditional statement\n",
    "\n",
    "if [ $my_var == \"Hello World\" ]; then\n",
    "    echo \"The condition is true\"\n",
    "else\n",
    "    echo \"The condition is false\"\n",
    "fi"
   ]
  },
  {
   "cell_type": "code",
   "execution_count": 16,
   "metadata": {
    "vscode": {
     "languageId": "shellscript"
    }
   },
   "outputs": [
    {
     "name": "stdout",
     "output_type": "stream",
     "text": [
      "bash: [: too many arguments\n",
      "bash: [: too many arguments\n",
      "The condition is false\n"
     ]
    }
   ],
   "source": [
    "# Example using if elif else\n",
    "\n",
    "if [ $my_var == \"Hello World\" ]; then\n",
    "    echo \"The condition is true\"\n",
    "    echo \"You said hello\"\n",
    "elif [ $my_var == \"Goodbye World\" ]; then\n",
    "    echo \"You said goodbye\"\n",
    "else\n",
    "    echo \"The condition is false\"\n",
    "fi"
   ]
  },
  {
   "cell_type": "markdown",
   "metadata": {},
   "source": [
    "### File and directory tests in bash\n",
    "- `-e`: True if the file exists.\n",
    "- `-f`: True if the file exists and is a regular file.\n",
    "- `-d`: True if the file exists and is a directory.\n",
    "- `-s`: True if the file exists and is not empty.\n",
    "- `-r`: True if the file exists and is readable.\n",
    "- `-w`: True if the file exists and is writable.\n",
    "- `-l`: True if the file exists and is a symbolic link.\n",
    "- `-x`: True if the file exists and is executable.\n",
    "- `-z`: True if the length of the string is zero.\n",
    "- `-n`: True if the length of the string is non-zero.\n"
   ]
  },
  {
   "cell_type": "code",
   "execution_count": 17,
   "metadata": {
    "vscode": {
     "languageId": "shellscript"
    }
   },
   "outputs": [],
   "source": [
    "# Some prepartion for testing files and directories\n",
    "\n",
    "mkdir -p test_dir\n",
    "touch test_dir/test_file.txt\n",
    "echo \"Hello World\" > test_dir/non_empty_file.txt\n",
    "echo \"echo Hello World\" >test_dir/test_script.sh\n",
    "chmod +x test_dir/test_script.sh\n"
   ]
  },
  {
   "cell_type": "code",
   "execution_count": 18,
   "metadata": {
    "vscode": {
     "languageId": "shellscript"
    }
   },
   "outputs": [
    {
     "name": "stdout",
     "output_type": "stream",
     "text": [
      "The file exists\n",
      "The file is a regular file\n",
      "The file is not a regular file\n",
      "The file is a directory\n"
     ]
    }
   ],
   "source": [
    "# Example of testing if a file exists\n",
    "\n",
    "if [ -e test_dir/test_file.txt ]; then\n",
    "    echo \"The file exists\"\n",
    "else\n",
    "    echo \"The file does not exist\"\n",
    "fi\n",
    "\n",
    "# Example of testing if a file is a regular file not a symlink\n",
    "\n",
    "if [ -f test_dir/test_file.txt ]; then\n",
    "    echo \"The file is a regular file\"\n",
    "else\n",
    "    echo \"The file is not a regular file\"\n",
    "fi\n",
    "\n",
    "if [ -f test_dir ]; then\n",
    "    echo \"The file is a regular file\"\n",
    "else\n",
    "    echo \"The file is not a regular file\"\n",
    "fi\n",
    "\n",
    "# Example of testing if a file is a directory\n",
    "\n",
    "if [ -d test_dir ]; then\n",
    "    echo \"The file is a directory\"\n",
    "else\n",
    "    echo \"The file is not a directory\"\n",
    "fi\n",
    "\n"
   ]
  },
  {
   "cell_type": "code",
   "execution_count": 19,
   "metadata": {
    "vscode": {
     "languageId": "shellscript"
    }
   },
   "outputs": [],
   "source": [
    "\n",
    "# A function to test and print the result of file and directory tests\n",
    "# Function name: test_file\n",
    "# Arguments: $1 is the file or directory to test\n",
    "# Inside the function assign input=$1 for clarity\n",
    "# More improvements could be made to this function.\n",
    "\n",
    "function test_file() {\n",
    "    input=$1\n",
    "    if [ -e $input ]; then\n",
    "        echo \"$input exists\"\n",
    "    else\n",
    "        echo \"$input does not exist\"\n",
    "    fi\n",
    "\n",
    "    if [ -f $input ]; then\n",
    "        echo \"$input is a regular file\"\n",
    "    else\n",
    "        echo \"$input is not a regular file\"\n",
    "    fi\n",
    "\n",
    "    if [ -d $input ]; then\n",
    "        echo \"$input is a directory\"\n",
    "    else\n",
    "        echo \"$input is not a directory\"\n",
    "    fi\n",
    "\n",
    "    if [ -r $input ]; then\n",
    "        echo \"$input is readable\"\n",
    "    else\n",
    "        echo \"$input is not readable\"\n",
    "    fi\n",
    "\n",
    "    if [ -w $input ]; then\n",
    "        echo \"$input is writable\"\n",
    "    else\n",
    "        echo \"$input is not writable\"\n",
    "    fi\n",
    "\n",
    "    # Combine two or more tests with logical AND\n",
    "    \n",
    "    if [ -f $input ] && [ -r $input ]; then\n",
    "        echo \"$input is a regular file and readable\"\n",
    "    else\n",
    "        echo \"$input is not a regular file or not readable\"\n",
    "    fi\n",
    "\n",
    "}\n",
    "\n",
    "# Warning: The above function is buggy. Can you fix it?\n",
    "# Problem: \n",
    "# - The function does not work with files or directories with spaces in the name\n",
    "# - What if the user does not pass an argument to the function?\n",
    "# - What if user passes an empty string as an argument to the function?\n"
   ]
  },
  {
   "cell_type": "markdown",
   "metadata": {},
   "source": [
    "\n",
    "### Numeric tests in bash\n",
    "- `-eq`: True if the two operands are equal.\n",
    "- `-ne`: True if the two operands are not equal.\n",
    "- `-lt`: True if the first operand is less than the second operand.\n",
    "- `-le`: True if the first operand is less than or equal to the second operand.\n",
    "- `-gt`: True if the first operand is greater than the second operand.\n",
    "- `-ge`: True if the first operand is greater than or equal to the second operand.\n"
   ]
  },
  {
   "cell_type": "code",
   "execution_count": 20,
   "metadata": {
    "vscode": {
     "languageId": "shellscript"
    }
   },
   "outputs": [
    {
     "name": "stdout",
     "output_type": "stream",
     "text": [
      "10 is less than 20\n",
      "10 is less than 20\n"
     ]
    }
   ],
   "source": [
    "# Example of numeric comparison\n",
    "\n",
    "num_a=10\n",
    "num_b=20\n",
    "num=0\n",
    "empty_num=\"\"\n",
    "\n",
    "if [ $num_a -lt $num_b ]; then\n",
    "    echo \"$num_a is less than $num_b\"\n",
    "else\n",
    "    echo \"$num_a is not less than $num_b\"\n",
    "fi\n",
    "\n",
    "# It is a good idea to use double quotes around variables\n",
    "# to avoid problems with spaces in the variable value, \n",
    "# or if the variable is empty\n",
    "\n",
    "if [ \"$num\" -gt \"$num_b\" ]; then\n",
    "    echo \"$num_a is greater than $num_b\"\n",
    "elif [ \"$num_a\" -lt \"$num_b\" ]; then\n",
    "    echo \"$num_a is less than $num_b\"\n",
    "else\n",
    "    echo \"$num_a is equal to $num_b\"\n",
    "fi\n"
   ]
  },
  {
   "cell_type": "code",
   "execution_count": 21,
   "metadata": {
    "vscode": {
     "languageId": "shellscript"
    }
   },
   "outputs": [
    {
     "name": "stdout",
     "output_type": "stream",
     "text": [
      "bash: [: -gt: unary operator expected\n",
      "bash: [: -lt: unary operator expected\n",
      " is equal to 20\n"
     ]
    }
   ],
   "source": [
    "\n",
    "# Buggy code with empty string\n",
    "\n",
    "if [ $empty_num -gt $num_b ]; then\n",
    "    echo \"$empty_num is greater than $num_b\"\n",
    "elif [ $empty_num -lt $num_b ]; then\n",
    "    echo \"$empty_num is less than $num_b\"\n",
    "else\n",
    "    echo \"$empty_num is equal to $num_b\"\n",
    "fi\n"
   ]
  },
  {
   "cell_type": "code",
   "execution_count": 22,
   "metadata": {
    "vscode": {
     "languageId": "shellscript"
    }
   },
   "outputs": [],
   "source": [
    "# Exercise: Fix the above code to work with empty strings\n"
   ]
  },
  {
   "cell_type": "markdown",
   "metadata": {},
   "source": [
    "\n",
    "### Combining logical operators\n",
    "- `-a`: Returns true if both operands are true.\n",
    "- `-o`: Returns true if either operand is true.\n",
    "- `!`: Invert the result of the following expression."
   ]
  },
  {
   "cell_type": "code",
   "execution_count": 33,
   "metadata": {
    "vscode": {
     "languageId": "shellscript"
    }
   },
   "outputs": [
    {
     "name": "stdout",
     "output_type": "stream",
     "text": [
      "10 is greater than -10 and less than 20\n",
      "\u001b[1;32m# Combine logical AND and OR\u001b[0m\n",
      "10 is less than 20\n"
     ]
    }
   ],
   "source": [
    "# Example of using logical AND with `-a` flag and single square brackets\n",
    "\n",
    "if [ \"$num_a\" -gt \"$num\" -a \"$num_a\" -lt \"$num_b\" ]; then\n",
    "    echo \"$num_a is greater than $num and less than $num_b\"\n",
    "else\n",
    "    echo \"$num_a is not greater than $num or not less than $num_b\"\n",
    "fi\n",
    "\n",
    "\n",
    "info $green \"# Combine logical AND and OR\"\n",
    "\n",
    "if [ \"$num_a\" -gt \"$num_b\" ] || [ \"$num_a\" -eq \"$num_b\" ]; then\n",
    "    echo \"$num_a is greater than or equal to $num_b\"\n",
    "else\n",
    "    echo \"$num_a is less than $num_b\"\n",
    "fi\n",
    "\n"
   ]
  },
  {
   "cell_type": "code",
   "execution_count": 36,
   "metadata": {
    "vscode": {
     "languageId": "shellscript"
    }
   },
   "outputs": [
    {
     "name": "stdout",
     "output_type": "stream",
     "text": [
      "\u001b[1;32m# Check if number is positive and even\u001b[0m\n"
     ]
    },
    {
     "name": "stdout",
     "output_type": "stream",
     "text": [
      "10 is positive and even\n",
      "10 is positive and even\n"
     ]
    }
   ],
   "source": [
    "\n",
    "info $green \"# Check if number is positive and even\"\n",
    "num=10\n",
    "\n",
    "if [ \"$num\" -gt 0 ] && [ \"$((num % 2))\" -eq 0 ]; then\n",
    "    echo \"$num is positive and even\"\n",
    "else\n",
    "    echo \"$num is not positive and even\"\n",
    "fi\n",
    "\n",
    "# Rewrite above example using double square brackets\n",
    "# This is not POSIX compliant, but it will work with `bash` shell\n",
    "\n",
    "if [[ \"$num\" -gt 0 && \"$((num % 2))\" -eq 0 ]]; then\n",
    "    echo \"$num is positive and even\"\n",
    "else\n",
    "    echo \"$num is not positive and even\"\n",
    "fi\n",
    "\n"
   ]
  },
  {
   "cell_type": "code",
   "execution_count": 38,
   "metadata": {
    "vscode": {
     "languageId": "shellscript"
    }
   },
   "outputs": [
    {
     "name": "stdout",
     "output_type": "stream",
     "text": [
      "\u001b[1;32mAnother way with '-a' flag\u001b[0m\n"
     ]
    },
    {
     "name": "stdout",
     "output_type": "stream",
     "text": [
      "\u001b[1;32m# This works as expected\u001b[0m\n",
      "-10 is not positive and even\n",
      "\u001b[1;31mThis is dangerous. It seems to work but the logic is wrong.\u001b[0m\n",
      "-10 is positive and even\n"
     ]
    }
   ],
   "source": [
    "\n",
    "info $green \"Another way with '-a' flag\"\n",
    "\n",
    "num=-10\n",
    "info $green \"# This works as expected\"\n",
    "\n",
    "if [ \"$num\" -gt 0 -a \"$((num % 2))\" -eq 0 ]; then\n",
    "    echo \"$num is positive and even\"\n",
    "else\n",
    "    echo \"$num is not positive and even\"\n",
    "fi\n",
    "\n",
    "info $red \"This is dangerous. It seems to work but the logic is wrong.\"\n",
    "num=-10\n",
    "if [ \"$num\" > 0 -a \"$((num % 2))\" = 0 ]; then\n",
    "    echo \"$num is positive and even\"\n",
    "else\n",
    "    echo \"$num is not positive and even\"\n",
    "fi"
   ]
  },
  {
   "cell_type": "code",
   "execution_count": 39,
   "metadata": {
    "vscode": {
     "languageId": "shellscript"
    }
   },
   "outputs": [
    {
     "name": "stdout",
     "output_type": "stream",
     "text": [
      "\u001b[1;32m# Alterative syntax for logical OR\u001b[0m\n",
      "\u001b[1;32m# with double square brackets\u001b[0m\n",
      "10 is less than 20\n"
     ]
    }
   ],
   "source": [
    "\n",
    "info $green \"# Alterative syntax for logical OR\"\n",
    "info $green \"# with double square brackets\"\n",
    "\n",
    "if [[ \"$num_a\" -gt \"$num_b\" || \"$num_a\" -eq \"$num_b\" ]]; then\n",
    "    echo \"$num_a is greater than or equal to $num_b\"\n",
    "else\n",
    "    echo \"$num_a is less than $num_b\"\n",
    "fi\n",
    "\n",
    "# Note: The above syntax is not POSIX compliant\n",
    "# It will not work with the `sh` shell\n",
    "# It will only work with `bash` shell\n"
   ]
  },
  {
   "cell_type": "code",
   "execution_count": 40,
   "metadata": {
    "vscode": {
     "languageId": "shellscript"
    }
   },
   "outputs": [
    {
     "name": "stdout",
     "output_type": "stream",
     "text": [
      "bash: syntax error in conditional expression\n",
      "bash: syntax error near `-o'\n",
      "10 is greater than or equal to 20\n",
      "bash: syntax error near unexpected token `else'\n",
      "10 is less than 20\n",
      "bash: syntax error near unexpected token `fi'\n"
     ]
    },
    {
     "ename": "",
     "evalue": "2",
     "output_type": "error",
     "traceback": []
    }
   ],
   "source": [
    "\n",
    "# Fix the following code:\n",
    "if [[ \"$num_a\" -gt \"$num_b\"  -o \"$num_a\" -eq \"$num_b\" ]]; then\n",
    "    echo \"$num_a is greater than or equal to $num_b\"\n",
    "else\n",
    "    echo \"$num_a is less than $num_b\"\n",
    "fi"
   ]
  },
  {
   "cell_type": "markdown",
   "metadata": {},
   "source": [
    "\n",
    "### String tests in bash\n",
    "- `=`: True if the strings are equal.\n",
    "- `!=`: True if the strings are not equal.\n",
    "- `-z`: True if the length of the string is zero.\n",
    "- `-n`: True if the length of the string is non-zero.\n",
    "\n"
   ]
  },
  {
   "cell_type": "code",
   "execution_count": null,
   "metadata": {
    "vscode": {
     "languageId": "shellscript"
    }
   },
   "outputs": [],
   "source": [
    "# Excercise: String test. Write your own code to test string based on the information above and examples of numeric tests\n"
   ]
  },
  {
   "cell_type": "code",
   "execution_count": null,
   "metadata": {
    "vscode": {
     "languageId": "shellscript"
    }
   },
   "outputs": [],
   "source": []
  },
  {
   "cell_type": "markdown",
   "metadata": {},
   "source": [
    "## Branching with the case statement\n",
    "\n",
    "- The `case` statement is used to execute a block of code based on a pattern.\n",
    "- The following syntax is used to write `case` statements in Bash:\n",
    "\n",
    "```bash\n",
    "case expression in\n",
    "    pattern1)\n",
    "        commands\n",
    "        ;;\n",
    "    pattern2)\n",
    "        commands\n",
    "        ;;\n",
    "    pattern3)\n",
    "        commands\n",
    "        ;;\n",
    "    *)\n",
    "        commands\n",
    "        ;;\n",
    "esac\n",
    "```\n",
    "This makes the code more readable and easier to maintain."
   ]
  },
  {
   "cell_type": "code",
   "execution_count": 41,
   "metadata": {
    "vscode": {
     "languageId": "shellscript"
    }
   },
   "outputs": [
    {
     "name": "stdout",
     "output_type": "stream",
     "text": [
      "This is an apple\n"
     ]
    }
   ],
   "source": [
    "# Example of using case statement\n",
    "\n",
    "fruit=\"apple\"\n",
    "\n",
    "case $fruit in\n",
    "    apple)\n",
    "        echo \"This is an apple\"\n",
    "        ;;\n",
    "    banana)\n",
    "        echo \"This is a banana\"\n",
    "        ;;\n",
    "    orange)\n",
    "        echo \"This is an orange\"\n",
    "        ;;\n",
    "    *)\n",
    "        echo \"I do not know what this is\"\n",
    "        ;;\n",
    "esac\n"
   ]
  },
  {
   "cell_type": "code",
   "execution_count": 45,
   "metadata": {
    "vscode": {
     "languageId": "shellscript"
    }
   },
   "outputs": [
    {
     "name": "stdout",
     "output_type": "stream",
     "text": [
      "This fruit starts with b\n"
     ]
    }
   ],
   "source": [
    "# Another example of using case statement, testing a string varaible starts with a certain character\n",
    "# Wildcard matching is allowed. And multiple patterns can be tested with the same code block\n",
    "\n",
    "fruit=\"Bapple\"\n",
    "\n",
    "case $fruit in\n",
    "    a*|A*)\n",
    "        echo \"This fruit starts with a\"\n",
    "        ;;\n",
    "\n",
    "    b*|B*)\n",
    "        echo \"This fruit starts with b\"\n",
    "        ;;\n",
    "\n",
    "    # Note: The order of patterns matters\n",
    "    # Start with b or B, ends with e or E\n",
    "    b*e|B*e)\n",
    "        echo \"This fruit starts with b and ends with e\"\n",
    "        ;;\n",
    "    *)\n",
    "        echo \"I do not know what this is\"\n",
    "        ;;\n",
    "esac\n"
   ]
  },
  {
   "cell_type": "code",
   "execution_count": 47,
   "metadata": {
    "vscode": {
     "languageId": "shellscript"
    }
   },
   "outputs": [
    {
     "name": "stdout",
     "output_type": "stream",
     "text": [
      "This fruit starts with b and ends with e\n"
     ]
    }
   ],
   "source": [
    "# Case statement with regular expression matching and AND operator\n",
    "\n",
    "fruit=\"Bapple\"\n",
    "\n",
    "case $fruit in\n",
    "    [aA]*)\n",
    "        echo \"This fruit starts with a\"\n",
    "        ;;\n",
    "    # Note: The order of patterns matters\n",
    "    # Start with b or B, ends with e or E\n",
    "    [bB]*[eE])\n",
    "        echo \"This fruit starts with b and ends with e\"\n",
    "        ;;\n",
    "\n",
    "    [bB]*)\n",
    "        echo \"This fruit starts with b\"\n",
    "        ;;\n",
    "\n",
    "    *)\n",
    "        echo \"I do not know what this is\"\n",
    "        ;;\n",
    "esac"
   ]
  },
  {
   "cell_type": "code",
   "execution_count": 48,
   "metadata": {
    "vscode": {
     "languageId": "shellscript"
    }
   },
   "outputs": [
    {
     "name": "stdout",
     "output_type": "stream",
     "text": [
      "The number is not 1, 2, or 3\n"
     ]
    }
   ],
   "source": [
    "# Cases statement to check number\n",
    "\n",
    "num=10\n",
    "\n",
    "case $num in\n",
    "    1)\n",
    "        echo \"The number is 1\"\n",
    "        ;;\n",
    "    2)\n",
    "        echo \"The number is 2\"\n",
    "        ;;\n",
    "    3)\n",
    "        echo \"The number is 3\"\n",
    "        ;;\n",
    "    *)\n",
    "        echo \"The number is not 1, 2, or 3\"\n",
    "        ;;\n",
    "esac\n"
   ]
  },
  {
   "cell_type": "markdown",
   "metadata": {},
   "source": [
    "## 2. **Loops in Bash**\n",
    "   - Demonstrating `for`, `while`, and `until` loops with practical examples.\n",
    "   - Exercises for students to write loops for specific tasks."
   ]
  },
  {
   "cell_type": "markdown",
   "metadata": {},
   "source": [
    "### `for` loops in bash\n",
    "\n",
    "- `for` loops are used to iterate over a list of items.\n",
    "- The following syntax is used to write `for` loops in Bash:\n",
    "\n",
    "```bash\n",
    "for item in list\n",
    "do\n",
    "    commands\n",
    "done\n",
    "```\n"
   ]
  },
  {
   "cell_type": "code",
   "execution_count": null,
   "metadata": {
    "vscode": {
     "languageId": "shellscript"
    }
   },
   "outputs": [],
   "source": [
    "info $green \"# Example of using for loop\"\n",
    "\n",
    "# Loop through numbers 1 to 10\n",
    "for i in {1..10}; do\n",
    "    echo $i\n",
    "done\n",
    "\n",
    "info $green \"Loop through numbers 1 to 10 with step size 2\"\n",
    "for i in {1..10..2}; do\n",
    "    echo $i\n",
    "done\n",
    "\n",
    "info $green Loop through a list of items\n",
    "for i in apple banana orange; do\n",
    "    echo \"This is a $i\"\n",
    "done\n",
    "\n",
    "info $green Set an array of fruits\n",
    "fruits=(apple banana orange)\n",
    "\n",
    "info $green Loop through the array\n",
    "for fruit in ${fruits[@]}; do\n",
    "    echo \"This is a $fruit\"\n",
    "done\n"
   ]
  },
  {
   "cell_type": "code",
   "execution_count": 75,
   "metadata": {
    "vscode": {
     "languageId": "shellscript"
    }
   },
   "outputs": [
    {
     "name": "stdout",
     "output_type": "stream",
     "text": [
      "\u001b[1;32mFor loop with output from a command\u001b[0m\n",
      "2016VangLe.GATKEssentials.org\n",
      "2023_Novodan_LinuxEssentials.org\n",
      "2023_Novodan_LinuxEssentials.pdf\n",
      "2023_Novodan_LinuxEssentials.tex\n",
      "data\n",
      "examples\n",
      "images\n",
      "install_dependencies.sh\n",
      "install_jupyterlab.sh\n",
      "jupyter_venv\n",
      "Learn_gawk_hands-on.ipynb\n",
      "Session1_LinuxBasics.ipynb\n",
      "Session2_Intro_Shell_Scripting.ipynb\n",
      "Session3_Advanced_Shell_Scripting.ipynb\n",
      "start_jupyterlab.sh\n",
      "Teaching_Plan.docx\n",
      "Teaching_Plan.md\n",
      "test_dir\n"
     ]
    }
   ],
   "source": [
    "info $green For loop with output from a command\n",
    "\n",
    "for i in $(ls); do\n",
    "    echo $i\n",
    "done"
   ]
  },
  {
   "cell_type": "markdown",
   "metadata": {},
   "source": [
    "### `while` loops\n",
    "\n",
    "- `while` loops are used to execute a block of code as long as a condition is true.\n",
    "- The following syntax is used to write `while` loops in Bash:\n",
    "\n",
    "```bash\n",
    "while condition\n",
    "do\n",
    "    commands\n",
    "done\n",
    "```\n",
    "\n",
    "`while` loops are useful when you don't know how many times you need to execute a block of code.\n"
   ]
  },
  {
   "cell_type": "raw",
   "metadata": {},
   "source": [
    "%%writefile test_dir/test_while.sh\n",
    "#!/bin/bash\n",
    "\n",
    "# Examples of While loop\n",
    "\n",
    "# The following code will loop until the user enters a number greater than 10.\n",
    "# It is not possible to run in Jupyter notebook because it requires user input.\n",
    "# Put it in a script and run it in the terminal.\n",
    "\n",
    "function get_num() {\n",
    "    my_num=0\n",
    "    # Loop to ask user to enter a number until the number is greater than 10\n",
    "    # Note: The condition is checked at the beginning of the loop\n",
    "    # Inform users if the input is not a number\n",
    "    while [ $my_num -le 10 ]; do\n",
    "        echo \"Enter a number greater than 10\"\n",
    "        read my_num\n",
    "        if [ -z ${my_num//[0-9]/} ]; then\n",
    "            echo \"You entered $my_num\"\n",
    "        else\n",
    "            echo \"You did not enter a number\"\n",
    "        fi\n",
    "    done\n",
    "}\n",
    "\n",
    "get_num\n",
    "\n"
   ]
  },
  {
   "cell_type": "code",
   "execution_count": 57,
   "metadata": {
    "vscode": {
     "languageId": "shellscript"
    }
   },
   "outputs": [],
   "source": [
    "# Use while loop to read a file line by line\n",
    "\n",
    "# Create a file with the following content with cat and heredoc\n",
    "cat << EOF > test_dir/test_while.txt\n",
    "1 one\n",
    "2 two\n",
    "3 three\n",
    "4 four\n",
    "EOF\n"
   ]
  },
  {
   "cell_type": "code",
   "execution_count": 62,
   "metadata": {
    "vscode": {
     "languageId": "shellscript"
    }
   },
   "outputs": [
    {
     "name": "stdout",
     "output_type": "stream",
     "text": [
      "Line 1: 1 one\n",
      "Line 2: 2 two\n",
      "Line 3: 3 three\n",
      "Line 4: 4 four\n",
      "\u001b[1;32mPrint the array\u001b[0m\n",
      "one two three four\n",
      "\u001b[1;32mPrint the array keys\u001b[0m\n",
      "1 2 3 4\n",
      "\u001b[1;32mPrint the array values\u001b[0m\n",
      "one two three four\n",
      "\u001b[1;32mPrint the array length\u001b[0m\n",
      "4\n",
      "\u001b[1;32mLoop through the array by keys\u001b[0m\n",
      "Key: 1, Value: one\n",
      "Key: 2, Value: two\n",
      "Key: 3, Value: three\n",
      "Key: 4, Value: four\n",
      "\u001b[1;32mLoop through the array by values\u001b[0m\n",
      "Value: one\n",
      "Value: two\n",
      "Value: three\n",
      "Value: four\n"
     ]
    }
   ],
   "source": [
    "\n",
    "# The following code will read the file line by line\n",
    "# Create an arrary to store the lines, with from the first column, value from second column\n",
    "# and print the line number and the content of the line\n",
    "# \n",
    "my_array=()\n",
    "i=0 # Set counter to 0 before the loop. This is important to unexpected counter values in the loop\n",
    "\n",
    "while read line; do\n",
    "    echo \"Line $((++i)): $line\"\n",
    "    # Split the line into two elements by space\n",
    "    a=($line)\n",
    "    # Assign my_array a new item where the key is the first element of tempoary array a\n",
    "    # and the value is the second element of tempoary array a\n",
    "    my_array[${a[0]}]=${a[1]}\n",
    "\n",
    "done < test_dir/test_while.txt\n",
    "\n",
    "info $green \"Print the array\"\n",
    "echo ${my_array[@]}\n",
    "info $green \"Print the array keys\"\n",
    "echo ${!my_array[@]}\n",
    "info $green \"Print the array values\"\n",
    "echo ${my_array[@]}\n",
    "info $green \"Print the array length\"\n",
    "echo ${#my_array[@]}\n",
    "\n",
    "info $green Loop through the array by keys\n",
    "for key in ${!my_array[@]}; do\n",
    "    echo \"Key: $key, Value: ${my_array[$key]}\"\n",
    "done\n",
    "\n",
    "info $green Loop through the array by values\n",
    "for value in ${my_array[@]}; do\n",
    "    echo \"Value: $value\"\n",
    "done\n"
   ]
  },
  {
   "cell_type": "markdown",
   "metadata": {},
   "source": [
    "### `until` loops\n",
    "\n",
    "- `until` loops are used to execute a block of code as long as a condition is false.\n",
    "- The following syntax is used to write `until` loops in Bash:\n",
    "\n",
    "```bash\n",
    "until condition\n",
    "do\n",
    "    commands\n",
    "done\n",
    "```\n",
    "- It is similar to the `while` loop, except that the condition is reversed."
   ]
  },
  {
   "cell_type": "code",
   "execution_count": 63,
   "metadata": {
    "vscode": {
     "languageId": "shellscript"
    }
   },
   "outputs": [
    {
     "name": "stdout",
     "output_type": "stream",
     "text": [
      "\u001b[1;32mUntil loop example\u001b[0m\n"
     ]
    },
    {
     "name": "stdout",
     "output_type": "stream",
     "text": [
      "0\n",
      "1\n",
      "2\n",
      "3\n",
      "4\n",
      "5\n"
     ]
    }
   ],
   "source": [
    "info $green Until loop example\n",
    "\n",
    "# Set a counter\n",
    "counter=0\n",
    "\n",
    "# Loop until counter is greater than 5\n",
    "until [ $counter -gt 5 ]; do\n",
    "    echo $counter\n",
    "    # Increment counter\n",
    "    ((counter++))\n",
    "done\n"
   ]
  },
  {
   "cell_type": "markdown",
   "metadata": {},
   "source": [
    "# Extra hands-on exercises\n"
   ]
  },
  {
   "cell_type": "markdown",
   "metadata": {},
   "source": [
    "# Asignment: Basic Bioinformatics Workflow\n",
    "\n",
    "- Task: Write a Bash script for basic file manipulations in bioinformatics.\n",
    "- Example assignment: A script that filters a dataset based on certain criteria, counts the number of occurrences of specific patterns, or reformat data files.\n"
   ]
  },
  {
   "cell_type": "code",
   "execution_count": 65,
   "metadata": {
    "vscode": {
     "languageId": "shellscript"
    }
   },
   "outputs": [
    {
     "name": "stdout",
     "output_type": "stream",
     "text": [
      "58022 test_dir/ecoli_genome.fasta\n",
      "1\n",
      "1142742 A\n",
      "1180091 C\n",
      "1177437 G\n",
      "1141382 T\n"
     ]
    }
   ],
   "source": [
    "# Use wget to download e-coli genome from NCBI\n",
    "\n",
    "ecoli_genome=test_dir/ecoli_genome.fasta\n",
    "\n",
    "# Check if the file exists, if not, download it\n",
    "if [ ! -f $ecoli_genome ]; then\n",
    "    wget -O $ecoli_genome.gz ftp://ftp.ncbi.nlm.nih.gov/genomes/all/GCF/000/005/845/GCF_000005845.2_ASM584v2/GCF_000005845.2_ASM584v2_genomic.fna.gz\n",
    "    gunzip $ecoli_genome.gz\n",
    "fi\n",
    "\n",
    "# Count the number of lines in the file\n",
    "wc -l $ecoli_genome\n",
    "\n",
    "# Count the number of lines in the file that start with >\n",
    "grep -c \"^>\" test_dir/ecoli_genome.fasta\n",
    "\n",
    "# Count each nucleotide in the file\n",
    "\n",
    "grep -v \"^>\" test_dir/ecoli_genome.fasta | grep -o . | sort | uniq -c\n",
    "\n"
   ]
  },
  {
   "cell_type": "code",
   "execution_count": 71,
   "metadata": {
    "vscode": {
     "languageId": "shellscript"
    }
   },
   "outputs": [
    {
     "name": "stdout",
     "output_type": "stream",
     "text": [
      "1180091 C\n",
      "1177437 G\n",
      "1142742 A\n",
      "1141382 T\n"
     ]
    }
   ],
   "source": [
    "\n",
    "# Count each nucleotide in the file and sort by the number of occurences with the most frequent at the top\n",
    "# Use gawk. \n",
    "\n",
    "grep -v \"^>\" test_dir/ecoli_genome.fasta | grep -o . | gawk '{count[$1]++} END {for (i in count) print count[i], i}' | sort -nr\n",
    "\n"
   ]
  },
  {
   "cell_type": "code",
   "execution_count": 73,
   "metadata": {
    "vscode": {
     "languageId": "shellscript"
    }
   },
   "outputs": [
    {
     "name": "stdout",
     "output_type": "stream",
     "text": [
      ">NC_000913.3 Escherichia coli str. K-12 substr. MG1655, complete genome\n",
      "A 1142742\n",
      "C 1180091\n",
      "T 1141382\n",
      "G 1177437\n"
     ]
    }
   ],
   "source": [
    "\n",
    "# Use more advanced gawk-only solution to count each nucleotide in the file and sort by the number of occurences with the most frequent at the top\n",
    "# Fasta header lines start with >, so we use them as first level of a 2-d array\n",
    "# The second level of the array is each nucleotide in the sequence\n",
    "# The value of each element is the number of occurences of each nucleotide\n",
    "\n",
    "gawk '/^>/ {header=$0; next} {\n",
    "    for (i=1; i<=length($0); i++) \n",
    "    count[header][substr($0, i, 1)]++\n",
    "} END {\n",
    "    for (header in count) {\n",
    "        print header; \n",
    "        for (nucleotide in count[header]) print nucleotide, count[header][nucleotide] \n",
    "        }\n",
    "}' test_dir/ecoli_genome.fasta # | sort -nr -k2,2 \n",
    "\n",
    "\n",
    "\n"
   ]
  },
  {
   "cell_type": "markdown",
   "metadata": {},
   "source": [
    "**Asignment:** Do the similar as above but for chromosomes of S. cerevisiae genome\n",
    "\n",
    "Hint: Link to download the genome: \n"
   ]
  },
  {
   "cell_type": "markdown",
   "metadata": {},
   "source": []
  }
 ],
 "metadata": {
  "kernelspec": {
   "display_name": "Bash",
   "language": "bash",
   "name": "bash"
  },
  "language_info": {
   "codemirror_mode": "shell",
   "file_extension": ".sh",
   "mimetype": "text/x-sh",
   "name": "bash"
  }
 },
 "nbformat": 4,
 "nbformat_minor": 2
}
