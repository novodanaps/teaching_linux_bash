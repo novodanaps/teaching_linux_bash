{
 "cells": [
  {
   "cell_type": "markdown",
   "metadata": {},
   "source": [
    "# Session 3: Advanced Shell Scripting and Bioinformatics Examples"
   ]
  },
  {
   "cell_type": "markdown",
   "metadata": {},
   "source": [
    "Shell scripting is a powerful tool for automating repetitive tasks and performing complex operations. In this session, we will learn how to write shell scripts to automate tasks, and we will also learn how to use shell scripts to perform bioinformatics tasks.\n",
    "\n",
    "The most powerful strengths of shell scripts and Linux command line tools are:\n",
    "\n",
    "* the ability to run multiple programs in a sequence by piping the output of one program into the input of another program. \n",
    "* command line interface and shell can be used to drive programs written in other languages, such as Python, R, C, C++, Java, etc.\n",
    "* the ability to run multiple programs in parallel by using the `&` operator.\n",
    "* the ability to run multiple programs on multiple files in parallel by using the `&` operator and the `xargs` command.\n",
    "* the ability to manupulate atritubtes of multiple files and directories by using the `find` command in combination with the `xargs` command.\n",
    "\n",
    "Shell scripts are good for the following tasks:\n",
    "\n",
    "* Automating repetitive tasks\n",
    "* Performing complex operations\n",
    "* Running multiple programs in a sequence\n",
    "* Running multiple programs in parallel\n",
    "* Running multiple programs on multiple files\n",
    "* Running multiple programs on multiple files in parallel\n",
    "\n",
    "With additional tools, shell scripts can also be used for the following tasks:\n",
    "\n",
    "- Data transformation with `awk`\n",
    "- Data transformation with `sed`\n",
    "- Querying data from text files with `grep`, `awk`, `rg` (ripgrep). \n",
    "\n",
    "Tasks that are not well suited for shell scripts, and alternative languages to use instead:\n",
    "\n",
    "* a graphical user interface (use Python or R)\n",
    "* complex data structures (use Python or R)\n",
    "* complex math (use Python or R)\n",
    "* complex string manipulation (use Python or R)\n",
    "* complex data analysis (use Python or R)\n",
    "* complex statistics (use Python or R)\n",
    "* complex machine learning (use Python or R)\n",
    "* complex plotting (use Python or R)\n",
    "* complex data visualization (use Python or R)\n",
    "* complex data mining (use Python or R)\n",
    "* complex data scraping (use Python or R)\n",
    "* complex web scraping (use Python or R)\n",
    "* complex web development (use Python or R)\n",
    "\n",
    "## Advanced Shell Scripting techniques\n",
    "\n",
    "These are some advanced shell scripting techniques that are useful for automating tasks and performing complex operations: \n",
    "\n",
    "* Unit testing \n",
    "* Error handling\n",
    "* Logging\n",
    "* Command line arguments\n",
    "* Configuration files\n",
    "* Parallel processing\n"
   ]
  },
  {
   "cell_type": "markdown",
   "metadata": {},
   "source": [
    "## Unit testing\n",
    "\n",
    "Unit testing is a software development technique for testing individual units of source code. A unit is the smallest testable part of any software. It usually has one or a few inputs and usually produces a single output. A unit test is a test that tests a single unit of source code. Unit testing is a very important part of software development. It is a good practice to write unit tests for all of your code.\n",
    "\n",
    "Unit testing is also a very important part of shell scripting. It is a good practice to write unit tests for all of your shell scripts.\n",
    "\n",
    "There are many unit testing frameworks for shell scripts. The most popular one is [Bats](https://github.com/bats-core/bats-core). Bats is a TAP-compliant testing framework for Bash. It provides a simple way to verify that the UNIX programs you write behave as expected. Bats is most useful when testing software written in Bash, but you can use it to test any UNIX program.\n",
    "\n",
    "This is an example of a Bats unit test:\n",
    "\n",
    "```bash\n",
    "#!/usr/bin/env bats\n",
    "\n",
    "@test \"addition using bc\" {\n",
    "  result=\"$(echo 2+2 | bc)\"\n",
    "  [ \"$result\" -eq 4 ]\n",
    "}\n",
    "\n",
    "@test \"addition using dc\" {\n",
    "  result=\"$(echo 2 2+p | dc)\"\n",
    "  [ \"$result\" -eq 4 ]\n",
    "}\n",
    "```\n"
   ]
  },
  {
   "cell_type": "markdown",
   "metadata": {},
   "source": [
    "## Error handling\n",
    "\n",
    "Error handling is a very important part of software development. It is a good practice to write error handling code for all of your code. Error handling is also a very important part of shell scripting. It is a good practice to write error handling code for all of your shell scripts.\n",
    "\n",
    "There are many ways to handle errors in shell scripts. The most common way is to use the `set -e` option. This option tells the shell to exit immediately if any command exits with a non-zero status. This is useful for catching errors early in the script. Another way to handle errors is to use the `trap` command. This command allows you to run a command when a signal is received. This is useful for catching errors late in the script.\n",
    "\n",
    "The idea of `trap` is to catch errors early in the script and handle them later in the script. The syntax of `trap` is as follows:\n",
    "\n",
    "```bash\n",
    "trap 'command' signal\n",
    "```\n",
    "where `command` is the command to run when the signal is received and `signal` is the signal to catch. For example, the following command will run the `echo` command when the `ERR` signal is received:\n",
    "\n",
    "```bash\n",
    "trap 'echo \"Error: $BASH_SOURCE:$LINENO $BASH_COMMAND\"' ERR\n",
    "```\n",
    "\n",
    "There are these signals that can be caught:\n",
    "\n",
    "* `EXIT` - when the script exits\n",
    "* `ERR` - when a command exits with a non-zero status\n",
    "* `DEBUG` - when a command is about to be executed\n",
    "* `RETURN` - when a function or sourced script exits\n",
    "\n",
    "Other signals and their meanings are the following:\n",
    "\n",
    "* `SIGHUP` - hangup\n",
    "* `SIGINT` - interrupt with Ctrl-C\n",
    "* `SIGQUIT` - quit\n",
    "* `SIGILL` - illegal instruction\n",
    "* `SIGTRAP` - trace trap\n",
    "* `SIGABRT` - abort\n",
    "* `SIGBUS` - bus error\n",
    "* `SIGFPE` - floating point exception\n",
    "* `SIGKILL` - kill\n",
    "* `SIGUSR1` - user defined signal 1\n",
    "* `SIGSEGV` - segmentation fault\n",
    "* `SIGUSR2` - user defined signal 2\n",
    "* `SIGPIPE` - broken pipe\n",
    "* `SIGALRM` - alarm clock\n",
    "* `SIGTERM` - termination\n",
    "* `SIGSTKFLT` - stack fault\n",
    "* `SIGCHLD` - child status has changed\n",
    "* `SIGCONT` - continue\n",
    "* `SIGSTOP` - stop\n",
    "* `SIGTSTP` - keyboard stop\n",
    "* `SIGTTIN` - background read from tty\n",
    "* `SIGTTOU` - background write to tty\n",
    "* `SIGURG` - urgent condition on socket\n",
    "* `SIGXCPU` - cpu limit exceeded\n",
    "* `SIGXFSZ` - file size limit exceeded\n",
    "* `SIGVTALRM` - virtual alarm clock\n",
    "* `SIGPROF` - profiling alarm clock\n",
    "* `SIGWINCH` - window size change\n",
    "* `SIGIO` - I/O now possible\n",
    "* `SIGPWR` - power failure restart\n",
    "* `SIGSYS` - bad system call\n",
    "* `SIGRTMIN` - real-time signal 0\n",
    "* `SIGRTMIN+1` - real-time signal 1\n",
    "* `SIGRTMIN+2` - real-time signal 2\n",
    "* `SIGRTMIN+3` - real-time signal 3 (etc)\n",
    "\n",
    "More information about signals for bash can be found \n",
    "\n",
    "\n",
    "\n",
    "\n",
    "```bash\n",
    "#!/bin/bash\n",
    "\n",
    "set -e\n",
    "\n",
    "# do something\n",
    "\n",
    "trap 'echo \"Error: $BASH_SOURCE:$LINENO $BASH_COMMAND\"' ERR\n",
    "```\n"
   ]
  },
  {
   "cell_type": "code",
   "execution_count": 1,
   "metadata": {
    "vscode": {
     "languageId": "shellscript"
    }
   },
   "outputs": [
    {
     "name": "stdout",
     "output_type": "stream",
     "text": [
      "ls: cannot access '/tmp/this_file_does_not_exist': No such file or directory\n",
      "Restarting Bash\n"
     ]
    }
   ],
   "source": [
    "# Runnable example of error handling in shell scripts\n",
    "# Let's produce errors to illustrate the error handling with set -e and trap\n",
    "\n",
    "# This is how to use set -e\n",
    "\n",
    "set -e\n",
    "\n",
    "# Run  a command that will fail\n",
    "\n",
    "ls /tmp/this_file_does_not_exist\n",
    "\n",
    "# The next command will not be executed because the previous one failed\n",
    "\n",
    "echo \"This will not be printed\"\n"
   ]
  },
  {
   "cell_type": "code",
   "execution_count": 5,
   "metadata": {
    "vscode": {
     "languageId": "shellscript"
    }
   },
   "outputs": [
    {
     "name": "stdout",
     "output_type": "stream",
     "text": [
      "ls: cannot access '/tmp/this_file_does_not_exist': No such file or directory\n",
      "An error occurred\n"
     ]
    }
   ],
   "source": [
    "# This is how to use trap\n",
    "\n",
    "# Define a function that will be called when an error occurs\n",
    "\n",
    "function error_handler {\n",
    "    echo \"An error occurred\"\n",
    "}\n",
    "\n",
    "ls /tmp/this_file_does_not_exist\n",
    "\n",
    "# Set the trap\n",
    "\n",
    "trap error_handler ERR\n",
    "\n",
    "# Run a command that will fail\n",
    "\n"
   ]
  },
  {
   "cell_type": "markdown",
   "metadata": {},
   "source": [
    "This article explains how to use the `trap` command to handle errors in shell scripts: https://www.linuxjournal.com/content/bash-trap-command"
   ]
  },
  {
   "cell_type": "markdown",
   "metadata": {},
   "source": [
    "## Logging\n",
    "\n",
    "To log the output of a shell script, you can use the `tee` command. The `tee` command reads from standard input and writes to standard output and one or more files. The syntax of the `tee` command is as follows:\n",
    "\n",
    "```bash\n",
    "tee [OPTION]... [FILE]...\n",
    "```\n",
    "\n",
    "To mimic the behavior of python logger, you can use the following function:\n"
   ]
  },
  {
   "cell_type": "code",
   "execution_count": null,
   "metadata": {
    "vscode": {
     "languageId": "shellscript"
    }
   },
   "outputs": [],
   "source": [
    "function log {\n",
    "    local level=$1\n",
    "    shift\n",
    "    local message=\"$@\"\n",
    "\n",
    "    # check if log level is valid\n",
    "    if [[ ! $level =~ ^(DEBUG|INFO|WARNING|ERROR|CRITICAL)$ ]]; then\n",
    "        echo \"Invalid log level: $level\"\n",
    "        exit 1\n",
    "    fi\n",
    "\n",
    "    # Set different colors for different log levels\n",
    "\n",
    "    local color\n",
    "    case $level in\n",
    "        DEBUG)\n",
    "            color=\"\\e[94m\" # blue\n",
    "            ;;\n",
    "        INFO)\n",
    "            color=\"\\e[92m\" # green\n",
    "            ;;\n",
    "        WARNING)\n",
    "            color=\"\\e[93m\" # yellow\n",
    "            ;;\n",
    "        ERROR)\n",
    "            color=\"\\e[91m\" # red\n",
    "            ;;\n",
    "        CRITICAL)\n",
    "            color=\"\\e[95m\" # magenta\n",
    "            ;;\n",
    "    esac\n",
    "\n",
    "    local timestamp=$(date +\"%Y-%m-%d %H:%M:%S\")\n",
    "\n",
    "    # Print log message to stdout and log file\n",
    "    echo -e \"$timestamp $color$level\\e[0m $message\" \n",
    "    echo -e \"$timestamp $level $message\" >> $LOG_FILE\n",
    "}\n"
   ]
  },
  {
   "cell_type": "code",
   "execution_count": 4,
   "metadata": {
    "vscode": {
     "languageId": "shellscript"
    }
   },
   "outputs": [
    {
     "name": "stdout",
     "output_type": "stream",
     "text": [
      "An error occurred\n",
      "This will be printed\n"
     ]
    }
   ],
   "source": [
    "# This is how to mimic try and catch in shell scripts\n",
    "\n",
    "# Define a function that will be called when an error occurs\n",
    "\n",
    "function error_handler {\n",
    "    echo \"An error occurred\"\n",
    "}\n",
    "\n",
    "# Run a command that would fail\n",
    "\n",
    "ls /tmp/this_file_does_not_exist 2> /dev/null || error_handler\n",
    "\n",
    "# Continue with the script\n",
    "echo \"This will be printed\"\n",
    "\n"
   ]
  },
  {
   "cell_type": "markdown",
   "metadata": {},
   "source": [
    "## Introduction to Bioinformatics workflows\n",
    "\n",
    "Bioinformatics workflows are a series of steps that are performed to analyze biological data. Common steps in NGS data analysis include:\n",
    "\n",
    "1. Quality control\n",
    "2. Read trimming\n",
    "3. Read mapping/alignment\n",
    "4. Read counting\n",
    "5. Secondary analysis:\n",
    "    1. Variant calling: \n",
    "        a. Single nucleotide variants (SNVs)\n",
    "        b. Insertions and deletions (indels)\n",
    "        c. Structural variants (SVs)\n",
    "        d. Copy number variants (CNVs)\n",
    "        e. Gene fusions\n",
    "    2. Differential expression analysis: to identify genes that are differentially expressed between two or more conditions\n",
    "    3. Differential methylation analysis: to identify genes that are differentially methylated between two or more conditions\n",
    "    4. Differential splicing analysis: to identify genes that are differentially spliced between two or more conditions\n",
    "    5. Differential motif analysis: to identify motifs that are differentially enriched between two or more conditions\n",
    "    6. Metagenomic analysis: to analyze the composition of microbial communities, such as the human gut microbiome.\n",
    "    7. Differential gene set analysis: to identify gene sets that are differentially enriched between two or more conditions\n",
    "    8. Differential pathway analysis: to identify pathways that are differentially enriched between two or more conditions\n",
    "    9. Differential network analysis. Network is a graph that represents the interactions between genes. \n",
    "    10. Differential gene ontology analysis. Ontology is a set of terms that describe the properties of genes. \n",
    "    11. Differential gene set enrichment analysis: Enrichment is a statistical method that is used to identify gene sets that are enriched in a list of genes. \n",
    "    12. Differential pathway enrichment analysis. Pathway is a set of genes that are involved in a biological process.\n",
    "    13. Time series analysis (e.g. RNA-seq time series analysis). \n",
    "    14. Single cell analysis (e.g. scRNA-seq analysis)\n",
    "6. Tertiary analysis: Filtering, interpretation, and visualization of results. \n",
    "\n"
   ]
  },
  {
   "cell_type": "markdown",
   "metadata": {},
   "source": [
    "# Final Assignment"
   ]
  },
  {
   "cell_type": "markdown",
   "metadata": {},
   "source": [
    "## Exmaple workflows written in Bash scripts\n",
    "\n",
    "### Example of variant calling workflow with bash scripts\n",
    "\n",
    "Check the folder `examples/ngs_workflow` for an example of a variant calling workflow written in Bash scripts.\n",
    "\n",
    "Asignment: Fix the bugs in the workflows and make it work.\n"
   ]
  },
  {
   "cell_type": "markdown",
   "metadata": {},
   "source": []
  }
 ],
 "metadata": {
  "kernelspec": {
   "display_name": "Bash",
   "language": "bash",
   "name": "bash"
  },
  "language_info": {
   "codemirror_mode": "shell",
   "file_extension": ".sh",
   "mimetype": "text/x-sh",
   "name": "bash"
  }
 },
 "nbformat": 4,
 "nbformat_minor": 2
}
